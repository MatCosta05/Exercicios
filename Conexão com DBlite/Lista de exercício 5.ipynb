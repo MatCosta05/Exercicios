{
 "cells": [
  {
   "cell_type": "code",
   "execution_count": 1,
   "metadata": {},
   "outputs": [],
   "source": [
    "import sqlite3\n",
    "banco = sqlite3.connect('exercicio.db')\n",
    "cursor = banco.cursor()"
   ]
  },
  {
   "cell_type": "code",
   "execution_count": 41,
   "metadata": {},
   "outputs": [
    {
     "ename": "OperationalError",
     "evalue": "table funcionarios already exists",
     "output_type": "error",
     "traceback": [
      "\u001b[1;31m---------------------------------------------------------------------------\u001b[0m",
      "\u001b[1;31mOperationalError\u001b[0m                          Traceback (most recent call last)",
      "\u001b[1;32m<ipython-input-41-a10c98795207>\u001b[0m in \u001b[0;36m<module>\u001b[1;34m\u001b[0m\n\u001b[1;32m----> 1\u001b[1;33m \u001b[0mcursor\u001b[0m\u001b[1;33m.\u001b[0m\u001b[0mexecute\u001b[0m\u001b[1;33m(\u001b[0m\u001b[1;34m\"CREATE TABLE funcionarios (idFuncionario integer,primeiroNome text,segundoNome text,ultimoNome text,dataNasc text,CPF text,RG text,Endereco text,CEP text,Cidade text,Fone text,CodDepartamento integer,Funcao text,Salario integer)\"\u001b[0m\u001b[1;33m)\u001b[0m\u001b[1;33m\u001b[0m\u001b[1;33m\u001b[0m\u001b[0m\n\u001b[0m\u001b[0;32m      2\u001b[0m \u001b[0mcursor\u001b[0m\u001b[1;33m.\u001b[0m\u001b[0mexecute\u001b[0m\u001b[1;33m(\u001b[0m\u001b[1;34m\"CREATE TABLE departamento (Codigo integer, Nome text, Localizacao text, CodigoFuncionarioGerente integer)\"\u001b[0m\u001b[1;33m)\u001b[0m\u001b[1;33m\u001b[0m\u001b[1;33m\u001b[0m\u001b[0m\n",
      "\u001b[1;31mOperationalError\u001b[0m: table funcionarios already exists"
     ]
    }
   ],
   "source": [
    "cursor.execute(\"CREATE TABLE funcionarios (idFuncionario integer,primeiroNome text,segundoNome text,ultimoNome text,dataNasc integer,CPF text,RG text,Endereco text,CEP text,Cidade text,Fone text,CodDepartamento integer,Funcao text,Salario integer)\")\n",
    "cursor.execute(\"CREATE TABLE departamento (Codigo integer, Nome text, Localizacao text, CodigoFuncionarioGerente integer)\")"
   ]
  },
  {
   "cell_type": "code",
   "execution_count": 12,
   "metadata": {},
   "outputs": [],
   "source": [
    "listaFuncionarios = [('1','Felipe','Oliveira','Souza','15/8/1997','06467681070','436842907','Rua das Seringueiras','78556110','Sinop','25421245','1','Programador','1000'),\n",
    "                    ('2','Marcos','Santos','Alves','15/2/1994','06445642070','836352907','Rua Seringueiras','78556110','Sinop','25421245','2','Analista','1200'),\n",
    "                    ('3','Fernanda','Dias','Anjos','18/12/1995','06749681070','534142907','Rua gueiras','78556110','Sinop','25421245','3','Analista','900'),\n",
    "                    ('4','Pietra','Costa','Anjos','05/6/2002','06749681070','634542907','Rua das Seriras','78556110','Sinop','25421245','3','Segurança','920'),\n",
    "                    ('5','Fabrício','Souza','Alves','25/9/1985','0641941070','123562907','Rua das ringueiras','78556110','Sinop','25421245','4','Programador','850'),\n",
    "                    ('6','Livia','Lima','Anjos','23/3/2000','06460231070','542352907','Rua dasiras','78556110','Sinop','25421245','5','Engenheiro','870'),\n",
    "                    ('7','Vitória','Pereira','Souza','20/5/2004','53127681070','234142907','Rua singueiras','78556110','Sinop','25421245','5','Advogado','790'),\n",
    "                    ('8','Arthur','Rodrigues','Anjos','20/7/1989','53234681070','734842907','Rua das Seringueiras','78556110','Sinop','25421245','2','Cientista','1100'),\n",
    "                    ('9','Guilherme','Alves','Anjos','25/5/1994','45621681070','156842907','Rua ingueiras','78556110','Sinop','25421245','1','Matemático','950'),\n",
    "                    ('10','Leticia','Nascimento','Anjos','13/4/1994','97437681070','734842907','Rua das Serras','78556110','Sinop','25421245','1','Gerente','1300')]"
   ]
  },
  {
   "cell_type": "code",
   "execution_count": 27,
   "metadata": {},
   "outputs": [],
   "source": [
    "listaDepartamentos = [('1', 'A', 'Norte', '5'),\n",
    "                     ('2', 'B', 'Sul', '1'),\n",
    "                     ('3', 'C', 'Leste', '2'),\n",
    "                     ('4', 'D', 'Oeste', '3'),\n",
    "                     ('5', 'E', 'Noroeste', '4')]"
   ]
  },
  {
   "cell_type": "code",
   "execution_count": 31,
   "metadata": {
    "scrolled": true
   },
   "outputs": [],
   "source": [
    "cursor.executemany(\"\"\"INSERT INTO funcionarios VALUES(?,?,?,?,?,?,?,?,?,?,?,?,?,?)\"\"\", listaFuncionarios)\n",
    "cursor.executemany(\"\"\"INSERT INTO departamento VALUES(?,?,?,?)\"\"\", listaDepartamentos)\n",
    "banco.commit()"
   ]
  },
  {
   "cell_type": "code",
   "execution_count": 33,
   "metadata": {},
   "outputs": [
    {
     "name": "stdout",
     "output_type": "stream",
     "text": [
      "[('Guilherme', 'Alves'), ('Pietra', 'Costa'), ('Fernanda', 'Dias'), ('Livia', 'Lima'), ('Leticia', 'Nascimento'), ('Felipe', 'Oliveira'), ('Vitória', 'Pereira'), ('Arthur', 'Rodrigues'), ('Marcos', 'Santos'), ('Fabrício', 'Souza')]\n"
     ]
    }
   ],
   "source": [
    "cursor.execute(\"SELECT primeiroNome, segundoNome FROM funcionarios GROUP BY segundoNome\")\n",
    "print(cursor.fetchall())"
   ]
  },
  {
   "cell_type": "code",
   "execution_count": 35,
   "metadata": {
    "scrolled": false
   },
   "outputs": [
    {
     "name": "stdout",
     "output_type": "stream",
     "text": [
      "[('Felipe', 'Oliveira', 'Souza', '15/8/1997', '06467681070', '436842907', 'Rua das Seringueiras', '78556110', 'Sinop', '25421245', 1, 'Programador', 1000), ('Marcos', 'Santos', 'Alves', '15/2/1994', '06445642070', '836352907', 'Rua Seringueiras', '78556110', 'Sinop', '25421245', 2, 'Analista', 1200), ('Fernanda', 'Dias', 'Anjos', '18/12/1995', '06749681070', '534142907', 'Rua gueiras', '78556110', 'Sinop', '25421245', 3, 'Analista', 900), ('Pietra', 'Costa', 'Anjos', '05/6/2002', '06749681070', '634542907', 'Rua das Seriras', '78556110', 'Sinop', '25421245', 3, 'Segurança', 920), ('Fabrício', 'Souza', 'Alves', '25/9/1985', '0641941070', '123562907', 'Rua das ringueiras', '78556110', 'Sinop', '25421245', 4, 'Programador', 850), ('Livia', 'Lima', 'Anjos', '23/3/2000', '06460231070', '542352907', 'Rua dasiras', '78556110', 'Sinop', '25421245', 5, 'Engenheiro', 870), ('Vitória', 'Pereira', 'Souza', '20/5/2004', '53127681070', '234142907', 'Rua singueiras', '78556110', 'Sinop', '25421245', 5, 'Advogado', 790), ('Arthur', 'Rodrigues', 'Anjos', '20/7/1989', '53234681070', '734842907', 'Rua das Seringueiras', '78556110', 'Sinop', '25421245', 2, 'Cientista', 1100), ('Guilherme', 'Alves', 'Anjos', '25/5/1994', '45621681070', '156842907', 'Rua ingueiras', '78556110', 'Sinop', '25421245', 1, 'Matemático', 950), ('Leticia', 'Nascimento', 'Anjos', '13/4/1994', '97437681070', '734842907', 'Rua das Serras', '78556110', 'Sinop', '25421245', 1, 'Gerente', 1300)]\n"
     ]
    }
   ],
   "source": [
    "cursor.execute(\"SELECT primeiroNome, segundoNome, ultimoNome,dataNasc, CPF, RG,Endereco, CEP,Cidade, Fone,CodDepartamento, Funcao, Salario FROM funcionarios ORDER BY Cidade\")\n",
    "print(cursor.fetchall())"
   ]
  },
  {
   "cell_type": "code",
   "execution_count": 37,
   "metadata": {},
   "outputs": [
    {
     "name": "stdout",
     "output_type": "stream",
     "text": [
      "[('Marcos',), ('Arthur',), ('Leticia',)]\n"
     ]
    }
   ],
   "source": [
    "cursor.execute(\"SELECT primeiroNome FROM funcionarios WHERE salario > '1000'\")\n",
    "print(cursor.fetchall())"
   ]
  },
  {
   "cell_type": "code",
   "execution_count": 42,
   "metadata": {},
   "outputs": [
    {
     "name": "stdout",
     "output_type": "stream",
     "text": [
      "[('Pietra', '05/6/2002'), ('Leticia', '13/4/1994'), ('Marcos', '15/2/1994'), ('Felipe', '15/8/1997'), ('Fernanda', '18/12/1995'), ('Vitória', '20/5/2004'), ('Arthur', '20/7/1989'), ('Livia', '23/3/2000'), ('Guilherme', '25/5/1994'), ('Fabrício', '25/9/1985')]\n"
     ]
    }
   ],
   "source": [
    "cursor.execute(\"SELECT primeiroNome, dataNasc FROM funcionarios GROUP BY dataNasc\")\n",
    "print(cursor.fetchall())"
   ]
  },
  {
   "cell_type": "code",
   "execution_count": 43,
   "metadata": {},
   "outputs": [
    {
     "name": "stdout",
     "output_type": "stream",
     "text": [
      "[(9880,)]\n"
     ]
    }
   ],
   "source": [
    "cursor.execute(\"SELECT SUM(salario) FROM funcionarios\")\n",
    "print(cursor.fetchall())"
   ]
  },
  {
   "cell_type": "code",
   "execution_count": 66,
   "metadata": {},
   "outputs": [
    {
     "data": {
      "text/plain": [
       "[('Felipe', 'Programador', 'A'),\n",
       " ('Marcos', 'Analista', 'B'),\n",
       " ('Fernanda', 'Analista', 'C'),\n",
       " ('Pietra', 'Segurança', 'C'),\n",
       " ('Fabrício', 'Programador', 'D'),\n",
       " ('Livia', 'Engenheiro', 'E'),\n",
       " ('Vitória', 'Advogado', 'E'),\n",
       " ('Arthur', 'Cientista', 'B'),\n",
       " ('Guilherme', 'Matemático', 'A'),\n",
       " ('Leticia', 'Gerente', 'A')]"
      ]
     },
     "execution_count": 66,
     "metadata": {},
     "output_type": "execute_result"
    }
   ],
   "source": [
    "sql = \"\"\"SELECT\n",
    "    funcionarios.primeiroNome,\n",
    "    funcionarios.funcao,\n",
    "    departamento.nome\n",
    "FROM funcionarios\n",
    "LEFT JOIN departamento ON funcionarios.CodDepartamento = departamento.Codigo\"\"\"\n",
    "\n",
    "cursor.execute(sql)\n",
    "cursor.fetchall()"
   ]
  },
  {
   "cell_type": "code",
   "execution_count": 70,
   "metadata": {},
   "outputs": [
    {
     "data": {
      "text/plain": [
       "10"
      ]
     },
     "execution_count": 70,
     "metadata": {},
     "output_type": "execute_result"
    }
   ],
   "source": [
    "len(listaFuncionarios)"
   ]
  },
  {
   "cell_type": "code",
   "execution_count": 74,
   "metadata": {},
   "outputs": [
    {
     "data": {
      "text/plain": [
       "[('Arthur', 'B'),\n",
       " ('Fabrício', 'D'),\n",
       " ('Felipe', 'A'),\n",
       " ('Fernanda', 'C'),\n",
       " ('Guilherme', 'A'),\n",
       " ('Leticia', 'A'),\n",
       " ('Livia', 'E'),\n",
       " ('Marcos', 'B'),\n",
       " ('Pietra', 'C'),\n",
       " ('Vitória', 'E')]"
      ]
     },
     "execution_count": 74,
     "metadata": {},
     "output_type": "execute_result"
    }
   ],
   "source": [
    "sql = \"\"\"SELECT\n",
    "    funcionarios.primeiroNome,\n",
    "    departamento.nome\n",
    "FROM funcionarios\n",
    "LEFT JOIN departamento ON funcionarios.CodDepartamento = departamento.Codigo GROUP BY funcionarios.primeiroNome\"\"\"\n",
    "\n",
    "cursor.execute(sql)\n",
    "cursor.fetchall()"
   ]
  },
  {
   "cell_type": "code",
   "execution_count": 81,
   "metadata": {},
   "outputs": [
    {
     "data": {
      "text/plain": [
       "[('Felipe', 'A'),\n",
       " ('Marcos', 'B'),\n",
       " ('Fernanda', 'C'),\n",
       " ('Fabrício', 'D'),\n",
       " ('Livia', 'E')]"
      ]
     },
     "execution_count": 81,
     "metadata": {},
     "output_type": "execute_result"
    }
   ],
   "source": [
    "sql = \"\"\"SELECT\n",
    "    funcionarios.primeiroNome,\n",
    "    departamento.nome\n",
    "FROM funcionarios\n",
    "CROSS JOIN departamento ON funcionarios.CodDepartamento = departamento.Codigo GROUP BY departamento.nome\"\"\"\n",
    "\n",
    "cursor.execute(sql)\n",
    "cursor.fetchall()"
   ]
  },
  {
   "cell_type": "code",
   "execution_count": null,
   "metadata": {},
   "outputs": [],
   "source": []
  }
 ],
 "metadata": {
  "kernelspec": {
   "display_name": "Python 3",
   "language": "python",
   "name": "python3"
  },
  "language_info": {
   "codemirror_mode": {
    "name": "ipython",
    "version": 3
   },
   "file_extension": ".py",
   "mimetype": "text/x-python",
   "name": "python",
   "nbconvert_exporter": "python",
   "pygments_lexer": "ipython3",
   "version": "3.8.3"
  }
 },
 "nbformat": 4,
 "nbformat_minor": 4
}
