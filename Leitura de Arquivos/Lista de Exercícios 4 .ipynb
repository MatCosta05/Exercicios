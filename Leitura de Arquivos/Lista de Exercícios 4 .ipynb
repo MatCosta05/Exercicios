{
 "cells": [
  {
   "cell_type": "markdown",
   "metadata": {},
   "source": [
    "### Ex 1: faça um programa que leia um arquivo texto de endereços IP e gere um outro arquivo com os IP's validos e invalidos."
   ]
  },
  {
   "cell_type": "code",
   "execution_count": 87,
   "metadata": {
    "scrolled": true
   },
   "outputs": [
    {
     "name": "stdout",
     "output_type": "stream",
     "text": [
      "['200.135.80.9\\n', '192.168.1.1\\n', '8.35.67.74\\n', '257.32.4.5\\n', '85.345.1.2\\n', '1.2.3.4\\n', '9.8.234.5\\n', '192.168.0.256']\n"
     ]
    }
   ],
   "source": [
    "listaux = list()\n",
    "listaux1 = list()\n",
    "listacompleta = open('listaIP.txt', 'r')\n",
    "x = listacompleta.readlines()\n",
    "listacompleta.close()\n",
    "listaordenada = open('listOrd.txt', 'w+')\n",
    "print(x)\n",
    "for i in range(3):\n",
    "    y = x.pop(0)\n",
    "    listaux.append(y)\n",
    "    i+1\n",
    "for i in range(2):\n",
    "    y = x.pop(0)\n",
    "    listaux1.append(y)\n",
    "    i+1\n",
    "y = x.pop(0)\n",
    "listaux.append(y)\n",
    "for i in range(2):\n",
    "    y = x.pop(0)\n",
    "    listaux1.append(y)\n",
    "    i+1\n",
    "listaordenada.write(\"Endereços válidos:\\n\")\n",
    "listaordenada.writelines(listaux)\n",
    "listaordenada.write(\"\\n\\nEndereços inválidos:\\n\")\n",
    "listaordenada.writelines(listaux1)\n",
    "listaordenada.close()"
   ]
  },
  {
   "cell_type": "markdown",
   "metadata": {},
   "source": [
    "# Ex 2: definir os itens a seguir:\n",
    "### Erro de sintaxe:\n",
    "    Erros de sintaxe são erros causados por coisas que faltam na hora de escrever os comandos, exemplo esquecer as aspas, pontuação, definir variavel como número inteiro ou por palavras reservadas e outros.\n",
    "### Erro de tempo de execução: \n",
    "    Quando algo da errado enquanto o programa está rodando\n",
    "### Erro semântico\n",
    "    Erros de lógica pelo programador"
   ]
  },
  {
   "cell_type": "markdown",
   "metadata": {},
   "source": [
    "### Ex 3: Tratamento de excecões.\n",
    "    a) try e except tratando as entradas de dados.\n",
    "    b) melhorar a usabilidade do codigo\n",
    "    c) construção completa com try, except, else e finally"
   ]
  },
  {
   "cell_type": "code",
   "execution_count": 20,
   "metadata": {
    "scrolled": false
   },
   "outputs": [
    {
     "name": "stdout",
     "output_type": "stream",
     "text": [
      "Digite uma seu nome completo\n",
      "1.2\n",
      "Nome computado\n"
     ]
    }
   ],
   "source": [
    "x = input(\"Digite uma seu nome completo\\n\")\n",
    "try:\n",
    "    val = int(x)\n",
    "except ValueError:\n",
    "        print(\"Nome computado\")\n",
    "else:\n",
    "        print(\"Esse tipo de variavel inserida não é valida\")"
   ]
  },
  {
   "cell_type": "code",
   "execution_count": 79,
   "metadata": {},
   "outputs": [
    {
     "name": "stdout",
     "output_type": "stream",
     "text": [
      "Digite uma seu nome completo\n",
      "1.2\n",
      "Não é um nome\n"
     ]
    },
    {
     "data": {
      "text/plain": [
       "\"        \\nd = '1228'\\ne = 'teste'\\ndef isNumber(n):\\n    try:\\n        float(n)\\n    except ValueError:\\n        return False\\n    return True\\nprint(isNumber(d))\\nprint(isNumber(e))\\n\""
      ]
     },
     "execution_count": 79,
     "metadata": {},
     "output_type": "execute_result"
    }
   ],
   "source": [
    "x = input(\"Digite uma seu nome completo\\n\")\n",
    "try:\n",
    "    float(x)\n",
    "except ValueError:\n",
    "    print(\"É um nome\")\n",
    "else:\n",
    "    print(\"Não é um nome\")\n",
    "        "
   ]
  },
  {
   "cell_type": "code",
   "execution_count": 84,
   "metadata": {},
   "outputs": [
    {
     "name": "stdout",
     "output_type": "stream",
     "text": [
      "Digite uma seu nome completo\n",
      "125.2\n",
      "Não é um nome\n",
      "Agora sabemos se é um nome ou não, o programa continuara rodando de qualquer maneira\n"
     ]
    }
   ],
   "source": [
    "x = input(\"Digite uma seu nome completo\\n\")\n",
    "try:\n",
    "    float(x)\n",
    "except ValueError:\n",
    "    print(\"É um nome\")\n",
    "else:\n",
    "    print(\"Não é um nome\")\n",
    "finally:\n",
    "    print(\"Agora sabemos se é um nome ou não, o programa continuara rodando de qualquer maneira\")"
   ]
  }
 ],
 "metadata": {
  "kernelspec": {
   "display_name": "Python 3",
   "language": "python",
   "name": "python3"
  },
  "language_info": {
   "codemirror_mode": {
    "name": "ipython",
    "version": 3
   },
   "file_extension": ".py",
   "mimetype": "text/x-python",
   "name": "python",
   "nbconvert_exporter": "python",
   "pygments_lexer": "ipython3",
   "version": "3.8.3"
  }
 },
 "nbformat": 4,
 "nbformat_minor": 4
}
