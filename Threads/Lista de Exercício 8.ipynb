{
 "cells": [
  {
   "cell_type": "markdown",
   "metadata": {},
   "source": [
    "## Crie uma função proc1 que imprima \"Processo 1\"\n",
    "a) inicialize essa função a partir de um objeto thread t1\n",
    "b) consulte se o objeto thread criado está ativo\n",
    "c) consulte o nome da thread ativa atualmente\n",
    "d) consulte o identificador de threads ativas atualmente\n",
    "e) consulte a quantidade de threads ativas \n",
    "f) retorne uma lista com todos os threads ativos atualmente"
   ]
  },
  {
   "cell_type": "code",
   "execution_count": 3,
   "metadata": {
    "scrolled": true
   },
   "outputs": [
    {
     "ename": "NameError",
     "evalue": "name 'Thread' is not defined",
     "output_type": "error",
     "traceback": [
      "\u001b[1;31m---------------------------------------------------------------------------\u001b[0m",
      "\u001b[1;31mNameError\u001b[0m                                 Traceback (most recent call last)",
      "\u001b[1;32m<ipython-input-3-2e069aa98fda>\u001b[0m in \u001b[0;36m<module>\u001b[1;34m\u001b[0m\n\u001b[0;32m      8\u001b[0m     \u001b[0mprint\u001b[0m\u001b[1;33m(\u001b[0m\u001b[1;34m\"\\nLista de threads ativas:\"\u001b[0m\u001b[1;33m,\u001b[0m \u001b[0mthreading\u001b[0m\u001b[1;33m.\u001b[0m\u001b[0menumerate\u001b[0m\u001b[1;33m(\u001b[0m \u001b[1;33m)\u001b[0m\u001b[1;33m)\u001b[0m\u001b[1;33m\u001b[0m\u001b[1;33m\u001b[0m\u001b[0m\n\u001b[0;32m      9\u001b[0m \u001b[1;33m\u001b[0m\u001b[0m\n\u001b[1;32m---> 10\u001b[1;33m \u001b[0mt1\u001b[0m \u001b[1;33m=\u001b[0m \u001b[0mThread\u001b[0m\u001b[1;33m(\u001b[0m\u001b[0mtarget\u001b[0m\u001b[1;33m=\u001b[0m\u001b[0mproc1\u001b[0m\u001b[1;33m)\u001b[0m\u001b[1;33m.\u001b[0m\u001b[0mstart\u001b[0m\u001b[1;33m(\u001b[0m\u001b[1;33m)\u001b[0m\u001b[1;33m\u001b[0m\u001b[1;33m\u001b[0m\u001b[0m\n\u001b[0m",
      "\u001b[1;31mNameError\u001b[0m: name 'Thread' is not defined"
     ]
    }
   ],
   "source": [
    "import threading\n",
    "\n",
    "def proc1():\n",
    "    print(\"Processo 1\")\n",
    "    print(\"\\nNome da Thread ativa no momento\", threading.current_thread())\n",
    "    print(\"\\nNúmero de identidade da thread\", threading.get_ident( ))\n",
    "    print(\"\\nQuantidade de threads ativas:\", threading.active_count())\n",
    "    print(\"\\nLista de threads ativas:\", threading.enumerate( ))\n",
    "\n",
    "t1 = Thread(target=proc1).start() "
   ]
  },
  {
   "cell_type": "code",
   "execution_count": 6,
   "metadata": {},
   "outputs": [
    {
     "name": "stdout",
     "output_type": "stream",
     "text": [
      "Processo 1\n",
      "<Thread(Thread-8, started 6412)>\n",
      "Processo 1\n",
      "<Thread(Thread-10, started 9476)>\n",
      "Consultando antes dos 30 segundos se cada objeto está ativo <Thread(Thread-8, started 6412)>\n",
      "Consultando antes dos 30 segundos se cada objeto está ativo <Thread(Thread-10, started 9476)>\n",
      "Processo 2\n",
      "<Thread(Thread-9, started 11012)>\n",
      "Processo 2\n",
      "<Thread(Thread-11, started 8792)>\n"
     ]
    }
   ],
   "source": [
    "from threading import Thread\n",
    "import time\n",
    "\n",
    "def proc1():\n",
    "    time.sleep(5)\n",
    "    print(\"Processo 1\")\n",
    "    print(threading.current_thread())\n",
    "    time.sleep(5)\n",
    "    print(\"Consultando antes dos 30 segundos se cada objeto está ativo\" , threading.current_thread())\n",
    "     \n",
    "def proc2():\n",
    "    time.sleep(30)\n",
    "    print(\"Processo 2\")\n",
    "    print(threading.current_thread())\n",
    "     \n",
    "t1 = Thread(target=proc1)\n",
    "t1.start()\n",
    "t2 = Thread(target=proc2)\n",
    "t2.start()\n"
   ]
  },
  {
   "cell_type": "markdown",
   "metadata": {},
   "source": [
    "## Responda a questões a seguir:\n",
    "a) O que é o problema do produtor consumidor e como podemos resolver este problema com threads.\n",
    "R: O problema descreve dois processos que compartilham um buffer de tamanho fixo, o trabalho do produtor é gerar um dado e colocá-lo no buffer e repitir essa operação e a tarefa do consumidor é consumir dados um de cada vez, para resolvermos isso com threads podemos fazer o uso de multithreads para o consumidor e o produtor fazendo com que o buffer nunca fique cheio aumentando o processo atraves do paralelismo.\n",
    "\n",
    "b) Indique mais um problema clássico da computação e como resolver isso com threads.\n",
    "R: Um dos problemas que esteve ao longo da computação desde sua criação é a demora no processamento, os computadores de antigamente só eram capazes de computar 1 ação por vez e com isso foi dada a ideia de utilizar o multithreading para que a velocidade de processamento aumente e que os computadores ficassem cada vez mais potentes."
   ]
  },
  {
   "cell_type": "markdown",
   "metadata": {},
   "source": [
    "## Em relação aos objetos de threads, complete a tabela a seguir.\n",
    "\n",
    "Objeto  ||  Descrição  ||  Comando de inicialização\n",
    "Thread: Representa um único thread de execução   Thread()\n",
    "Lock: Bloqueio da thread até que ela seja liberada  .Lock\n",
    "RLock: é um bloqueio recursivo utilizado em threads que podem ser bloqueadas mais de uma vez .RLock\n",
    "Condition: Objeto de condição que faz a thread aguardar por uma condição seja finalizada para que ela que inicie .condition() \n",
    "Event: Uma thread emite um sinal/evento e outra thread espera por isso .Event\n",
    "Semaphore: Um contador de recursos finitos que bloqueia uma thread quando chega a 0  .Semaphore()\n",
    "BoundedSemaphore: Verifica se o valor atual não ultrapassa o valor inicial, se acontece \"ValueError\" é dado como mensagem de erro. .BoundedSemaphore()\n",
    "Timer: Uma ação acontece depois de uma quantidade de tempo passar. .Timer()\n",
    "Barrier: É uma maneira de sincronizar diversas threads até que elas chegem no mesmo estado das outras \n",
    ".Barrier()"
   ]
  }
 ],
 "metadata": {
  "kernelspec": {
   "display_name": "Python 3",
   "language": "python",
   "name": "python3"
  },
  "language_info": {
   "codemirror_mode": {
    "name": "ipython",
    "version": 3
   },
   "file_extension": ".py",
   "mimetype": "text/x-python",
   "name": "python",
   "nbconvert_exporter": "python",
   "pygments_lexer": "ipython3",
   "version": "3.8.3"
  }
 },
 "nbformat": 4,
 "nbformat_minor": 4
}
