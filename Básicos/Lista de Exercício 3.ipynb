{
 "cells": [
  {
   "cell_type": "markdown",
   "metadata": {},
   "source": [
    "### Classe Bola:\n",
    "Atributos: Cor, Circunferência, material.\n",
    "Métodos: trocaCor e mostraCor\n"
   ]
  },
  {
   "cell_type": "code",
   "execution_count": 4,
   "metadata": {},
   "outputs": [
    {
     "name": "stdout",
     "output_type": "stream",
     "text": [
      "Digite a cor que você querRoxo\n",
      "A cor da bola é:  Roxo\n"
     ]
    }
   ],
   "source": [
    "class bola:\n",
    "    def __init__(self):\n",
    "        self.cor=\"azul\"\n",
    "        self.circun= \"2.pi.r\"\n",
    "        self.material=\"Borracha\"\n",
    "        \n",
    "    def trocaCor(self):\n",
    "        x = input(\"Digite a cor que você quer: \")\n",
    "        self.cor = x\n",
    "    def mostraCor(self):\n",
    "        print(\"A cor da bola é: \", self.cor)\n",
    "\n",
    "bl1 = bola()\n",
    "bl1.trocaCor()\n",
    "bl1.mostraCor()\n",
    "        "
   ]
  },
  {
   "cell_type": "markdown",
   "metadata": {},
   "source": [
    "### Classe Quadrado:\n",
    "Atributo: tamanho do lado\n",
    "Métodos: mudar valor do lado, retornar valor do lado e calcular área."
   ]
  },
  {
   "cell_type": "code",
   "execution_count": 43,
   "metadata": {},
   "outputs": [
    {
     "name": "stdout",
     "output_type": "stream",
     "text": [
      "Digite o tamanho do lado: 4\n",
      "Selecione o número do que deseja fazer: \n",
      "1-Mudar o valor do lado\n",
      "2-Verificar o valor do lado\n",
      "3-Calcular a área do quadrado\n",
      "4-sair\n",
      "2\n",
      "O valor do lado é  4\n"
     ]
    },
    {
     "ename": "KeyboardInterrupt",
     "evalue": "Interrupted by user",
     "output_type": "error",
     "traceback": [
      "\u001b[1;31m---------------------------------------------------------------------------\u001b[0m",
      "\u001b[1;31mKeyboardInterrupt\u001b[0m                         Traceback (most recent call last)",
      "\u001b[1;32m<ipython-input-43-3d461300911d>\u001b[0m in \u001b[0;36m<module>\u001b[1;34m\u001b[0m\n\u001b[0;32m     15\u001b[0m \u001b[0mresp\u001b[0m \u001b[1;33m=\u001b[0m \u001b[1;34m\"S\"\u001b[0m\u001b[1;33m\u001b[0m\u001b[1;33m\u001b[0m\u001b[0m\n\u001b[0;32m     16\u001b[0m \u001b[1;32mwhile\u001b[0m\u001b[1;33m(\u001b[0m\u001b[0mresp\u001b[0m \u001b[1;33m==\u001b[0m \u001b[1;34m\"S\"\u001b[0m\u001b[1;33m)\u001b[0m\u001b[1;33m:\u001b[0m\u001b[1;33m\u001b[0m\u001b[1;33m\u001b[0m\u001b[0m\n\u001b[1;32m---> 17\u001b[1;33m     \u001b[0mopcao\u001b[0m \u001b[1;33m=\u001b[0m \u001b[0minput\u001b[0m\u001b[1;33m(\u001b[0m\u001b[1;34m\"Selecione o número do que deseja fazer: \\n1-Mudar o valor do lado\\n2-Verificar o valor do lado\\n3-Calcular a área do quadrado\\n4-sair\\n\"\u001b[0m\u001b[1;33m)\u001b[0m\u001b[1;33m\u001b[0m\u001b[1;33m\u001b[0m\u001b[0m\n\u001b[0m\u001b[0;32m     18\u001b[0m     \u001b[1;32mif\u001b[0m\u001b[1;33m(\u001b[0m\u001b[0mopcao\u001b[0m \u001b[1;33m==\u001b[0m \u001b[1;34m\"1\"\u001b[0m\u001b[1;33m)\u001b[0m\u001b[1;33m:\u001b[0m\u001b[1;33m\u001b[0m\u001b[1;33m\u001b[0m\u001b[0m\n\u001b[0;32m     19\u001b[0m         \u001b[0mqrd\u001b[0m\u001b[1;33m.\u001b[0m\u001b[0mmudarVlr\u001b[0m\u001b[1;33m(\u001b[0m\u001b[1;33m)\u001b[0m\u001b[1;33m\u001b[0m\u001b[1;33m\u001b[0m\u001b[0m\n",
      "\u001b[1;32mD:\\Anaconda\\lib\\site-packages\\ipykernel\\kernelbase.py\u001b[0m in \u001b[0;36mraw_input\u001b[1;34m(self, prompt)\u001b[0m\n\u001b[0;32m    858\u001b[0m                 \u001b[1;34m\"raw_input was called, but this frontend does not support input requests.\"\u001b[0m\u001b[1;33m\u001b[0m\u001b[1;33m\u001b[0m\u001b[0m\n\u001b[0;32m    859\u001b[0m             )\n\u001b[1;32m--> 860\u001b[1;33m         return self._input_request(str(prompt),\n\u001b[0m\u001b[0;32m    861\u001b[0m             \u001b[0mself\u001b[0m\u001b[1;33m.\u001b[0m\u001b[0m_parent_ident\u001b[0m\u001b[1;33m,\u001b[0m\u001b[1;33m\u001b[0m\u001b[1;33m\u001b[0m\u001b[0m\n\u001b[0;32m    862\u001b[0m             \u001b[0mself\u001b[0m\u001b[1;33m.\u001b[0m\u001b[0m_parent_header\u001b[0m\u001b[1;33m,\u001b[0m\u001b[1;33m\u001b[0m\u001b[1;33m\u001b[0m\u001b[0m\n",
      "\u001b[1;32mD:\\Anaconda\\lib\\site-packages\\ipykernel\\kernelbase.py\u001b[0m in \u001b[0;36m_input_request\u001b[1;34m(self, prompt, ident, parent, password)\u001b[0m\n\u001b[0;32m    902\u001b[0m             \u001b[1;32mexcept\u001b[0m \u001b[0mKeyboardInterrupt\u001b[0m\u001b[1;33m:\u001b[0m\u001b[1;33m\u001b[0m\u001b[1;33m\u001b[0m\u001b[0m\n\u001b[0;32m    903\u001b[0m                 \u001b[1;31m# re-raise KeyboardInterrupt, to truncate traceback\u001b[0m\u001b[1;33m\u001b[0m\u001b[1;33m\u001b[0m\u001b[1;33m\u001b[0m\u001b[0m\n\u001b[1;32m--> 904\u001b[1;33m                 \u001b[1;32mraise\u001b[0m \u001b[0mKeyboardInterrupt\u001b[0m\u001b[1;33m(\u001b[0m\u001b[1;34m\"Interrupted by user\"\u001b[0m\u001b[1;33m)\u001b[0m \u001b[1;32mfrom\u001b[0m \u001b[1;32mNone\u001b[0m\u001b[1;33m\u001b[0m\u001b[1;33m\u001b[0m\u001b[0m\n\u001b[0m\u001b[0;32m    905\u001b[0m             \u001b[1;32mexcept\u001b[0m \u001b[0mException\u001b[0m \u001b[1;32mas\u001b[0m \u001b[0me\u001b[0m\u001b[1;33m:\u001b[0m\u001b[1;33m\u001b[0m\u001b[1;33m\u001b[0m\u001b[0m\n\u001b[0;32m    906\u001b[0m                 \u001b[0mself\u001b[0m\u001b[1;33m.\u001b[0m\u001b[0mlog\u001b[0m\u001b[1;33m.\u001b[0m\u001b[0mwarning\u001b[0m\u001b[1;33m(\u001b[0m\u001b[1;34m\"Invalid Message:\"\u001b[0m\u001b[1;33m,\u001b[0m \u001b[0mexc_info\u001b[0m\u001b[1;33m=\u001b[0m\u001b[1;32mTrue\u001b[0m\u001b[1;33m)\u001b[0m\u001b[1;33m\u001b[0m\u001b[1;33m\u001b[0m\u001b[0m\n",
      "\u001b[1;31mKeyboardInterrupt\u001b[0m: Interrupted by user"
     ]
    }
   ],
   "source": [
    "lado = int(input(\"Digite o tamanho do lado: \"))\n",
    "\n",
    "class quadrado:\n",
    "    def __init__(self):\n",
    "        self.lado = lado\n",
    "    \n",
    "    def mudarVlr(self):\n",
    "        self.lado = int(input(\"Digite o tamanho do lado: \"))\n",
    "    def retVlr(self):\n",
    "        print(\"O valor do lado é \", self.lado)\n",
    "    def calA(self):\n",
    "        print(\"O valor da área é de: \", self.lado**2)\n",
    "\n",
    "qrd = quadrado()\n",
    "resp = \"S\"\n",
    "while(resp == \"S\"):\n",
    "    opcao = input(\"Selecione o número do que deseja fazer: \\n1-Mudar o valor do lado\\n2-Verificar o valor do lado\\n3-Calcular a área do quadrado\\n4-sair\\n\")\n",
    "    if(opcao == \"1\"):\n",
    "        qrd.mudarVlr()\n",
    "    elif(opcao == \"2\"):\n",
    "        qrd.retVlr()\n",
    "    elif(opcao == \"3\"):\n",
    "        qrd.calA()\n",
    "    elif(opcao == \"4\"):\n",
    "        resp = \"\"\n",
    "    else:\n",
    "        print(\"Digite um valor do menu\")\n"
   ]
  },
  {
   "cell_type": "markdown",
   "metadata": {},
   "source": [
    "### Classe Retangulo:\n",
    "Atributos: Tamanho do lado\n",
    "Métodos: Mudar valor do lado, Retornar valor do lado e calcular área."
   ]
  },
  {
   "cell_type": "code",
   "execution_count": 45,
   "metadata": {},
   "outputs": [
    {
     "name": "stdout",
     "output_type": "stream",
     "text": [
      "Digite o valor da base: 5\n",
      "Digite o valor da altura: 5\n",
      "Quanto os pisos cobrem em m²? 2.5\n",
      "Quanto mede o rodapé? 1\n",
      "Digite o que deseja fazer: \n",
      "1- mudar valores de base e altura \n",
      "2-Verificar os valores da base e altura\n",
      "3-Mostrar a quantidade de pisos e rodapés necessários\n",
      "4-Para sair\n",
      "2\n",
      "O valor da base é:  5  e o valor da altura é de  5\n",
      "Digite o que deseja fazer: \n",
      "1- mudar valores de base e altura \n",
      "2-Verificar os valores da base e altura\n",
      "3-Mostrar a quantidade de pisos e rodapés necessários\n",
      "4-Para sair\n",
      "3\n",
      "O valor da área é  25 \n",
      " sendo assim a quantidade de pisos necessárias é de:  10.0\n",
      "O valor do perimetro é de:  20 \n",
      " sendo assim a quantidade de rodapés é de:  20.0\n"
     ]
    },
    {
     "ename": "KeyboardInterrupt",
     "evalue": "Interrupted by user",
     "output_type": "error",
     "traceback": [
      "\u001b[1;31m---------------------------------------------------------------------------\u001b[0m",
      "\u001b[1;31mKeyboardInterrupt\u001b[0m                         Traceback (most recent call last)",
      "\u001b[1;32m<ipython-input-45-74d537d5362d>\u001b[0m in \u001b[0;36m<module>\u001b[1;34m\u001b[0m\n\u001b[0;32m     24\u001b[0m \u001b[0mresp\u001b[0m \u001b[1;33m=\u001b[0m \u001b[1;34m'S'\u001b[0m\u001b[1;33m\u001b[0m\u001b[1;33m\u001b[0m\u001b[0m\n\u001b[0;32m     25\u001b[0m \u001b[1;32mwhile\u001b[0m\u001b[1;33m(\u001b[0m\u001b[0mresp\u001b[0m \u001b[1;33m==\u001b[0m \u001b[1;34m'S'\u001b[0m\u001b[1;33m)\u001b[0m\u001b[1;33m:\u001b[0m\u001b[1;33m\u001b[0m\u001b[1;33m\u001b[0m\u001b[0m\n\u001b[1;32m---> 26\u001b[1;33m     \u001b[0mopcao\u001b[0m \u001b[1;33m=\u001b[0m \u001b[0minput\u001b[0m\u001b[1;33m(\u001b[0m\u001b[1;34m\"Digite o que deseja fazer: \\n1- mudar valores de base e altura \\n2-Verificar os valores da base e altura\\n3-Mostrar a quantidade de pisos e rodapés necessários\\n4-Para sair\\n\"\u001b[0m\u001b[1;33m)\u001b[0m\u001b[1;33m\u001b[0m\u001b[1;33m\u001b[0m\u001b[0m\n\u001b[0m\u001b[0;32m     27\u001b[0m     \u001b[1;32mif\u001b[0m\u001b[1;33m(\u001b[0m\u001b[0mopcao\u001b[0m \u001b[1;33m==\u001b[0m \u001b[1;34m'1'\u001b[0m\u001b[1;33m)\u001b[0m\u001b[1;33m:\u001b[0m\u001b[1;33m\u001b[0m\u001b[1;33m\u001b[0m\u001b[0m\n\u001b[0;32m     28\u001b[0m         \u001b[0mrtg\u001b[0m\u001b[1;33m.\u001b[0m\u001b[0mmudarVlrL\u001b[0m\u001b[1;33m(\u001b[0m\u001b[1;33m)\u001b[0m\u001b[1;33m\u001b[0m\u001b[1;33m\u001b[0m\u001b[0m\n",
      "\u001b[1;32mD:\\Anaconda\\lib\\site-packages\\ipykernel\\kernelbase.py\u001b[0m in \u001b[0;36mraw_input\u001b[1;34m(self, prompt)\u001b[0m\n\u001b[0;32m    858\u001b[0m                 \u001b[1;34m\"raw_input was called, but this frontend does not support input requests.\"\u001b[0m\u001b[1;33m\u001b[0m\u001b[1;33m\u001b[0m\u001b[0m\n\u001b[0;32m    859\u001b[0m             )\n\u001b[1;32m--> 860\u001b[1;33m         return self._input_request(str(prompt),\n\u001b[0m\u001b[0;32m    861\u001b[0m             \u001b[0mself\u001b[0m\u001b[1;33m.\u001b[0m\u001b[0m_parent_ident\u001b[0m\u001b[1;33m,\u001b[0m\u001b[1;33m\u001b[0m\u001b[1;33m\u001b[0m\u001b[0m\n\u001b[0;32m    862\u001b[0m             \u001b[0mself\u001b[0m\u001b[1;33m.\u001b[0m\u001b[0m_parent_header\u001b[0m\u001b[1;33m,\u001b[0m\u001b[1;33m\u001b[0m\u001b[1;33m\u001b[0m\u001b[0m\n",
      "\u001b[1;32mD:\\Anaconda\\lib\\site-packages\\ipykernel\\kernelbase.py\u001b[0m in \u001b[0;36m_input_request\u001b[1;34m(self, prompt, ident, parent, password)\u001b[0m\n\u001b[0;32m    902\u001b[0m             \u001b[1;32mexcept\u001b[0m \u001b[0mKeyboardInterrupt\u001b[0m\u001b[1;33m:\u001b[0m\u001b[1;33m\u001b[0m\u001b[1;33m\u001b[0m\u001b[0m\n\u001b[0;32m    903\u001b[0m                 \u001b[1;31m# re-raise KeyboardInterrupt, to truncate traceback\u001b[0m\u001b[1;33m\u001b[0m\u001b[1;33m\u001b[0m\u001b[1;33m\u001b[0m\u001b[0m\n\u001b[1;32m--> 904\u001b[1;33m                 \u001b[1;32mraise\u001b[0m \u001b[0mKeyboardInterrupt\u001b[0m\u001b[1;33m(\u001b[0m\u001b[1;34m\"Interrupted by user\"\u001b[0m\u001b[1;33m)\u001b[0m \u001b[1;32mfrom\u001b[0m \u001b[1;32mNone\u001b[0m\u001b[1;33m\u001b[0m\u001b[1;33m\u001b[0m\u001b[0m\n\u001b[0m\u001b[0;32m    905\u001b[0m             \u001b[1;32mexcept\u001b[0m \u001b[0mException\u001b[0m \u001b[1;32mas\u001b[0m \u001b[0me\u001b[0m\u001b[1;33m:\u001b[0m\u001b[1;33m\u001b[0m\u001b[1;33m\u001b[0m\u001b[0m\n\u001b[0;32m    906\u001b[0m                 \u001b[0mself\u001b[0m\u001b[1;33m.\u001b[0m\u001b[0mlog\u001b[0m\u001b[1;33m.\u001b[0m\u001b[0mwarning\u001b[0m\u001b[1;33m(\u001b[0m\u001b[1;34m\"Invalid Message:\"\u001b[0m\u001b[1;33m,\u001b[0m \u001b[0mexc_info\u001b[0m\u001b[1;33m=\u001b[0m\u001b[1;32mTrue\u001b[0m\u001b[1;33m)\u001b[0m\u001b[1;33m\u001b[0m\u001b[1;33m\u001b[0m\u001b[0m\n",
      "\u001b[1;31mKeyboardInterrupt\u001b[0m: Interrupted by user"
     ]
    }
   ],
   "source": [
    "# Estava pensando em criar 2 classes uma para o retangulo e outra para os pisos e rodapé, porém resolvi fazer tudo em uma só, qual é o mais correto??\n",
    "base = int(input (\"Digite o valor da base: \"))\n",
    "altura = int(input(\"Digite o valor da altura: \"))\n",
    "pisos = float(input(\"Quanto os pisos cobrem em m²? \"))\n",
    "rodape = int(input(\"Quanto mede o rodapé? \"))\n",
    "class retangulo:\n",
    "    def __init__(self):\n",
    "        self.tBase = base\n",
    "        self.tAltura = altura\n",
    "\n",
    "    def mudarVlrL(self):\n",
    "        self.tBase = int(input(\"Digite o tamanho da base\"));\n",
    "        self.tAltura = int(input(\"Digite o tamanho da altura\"));\n",
    "    def RetVlrL(self):\n",
    "        print(\"O valor da base é: \", self.tBase, \" e o valor da altura é de \", self.tAltura)\n",
    "    def CalcA(self):\n",
    "        A = self.tBase * self.tAltura\n",
    "        print(\"O valor da área é \", A, \"\\n sendo assim a quantidade de pisos necessárias é de: \", A/pisos);\n",
    "    def CalcPer(self):\n",
    "        P = (self.tBase*2)+(self.tAltura*2);        \n",
    "        print(\"O valor do perimetro é de: \", P, \"\\n sendo assim a quantidade de rodapés é de: \", P/rodape)\n",
    "\n",
    "rtg = retangulo()\n",
    "resp = 'S'\n",
    "while(resp == 'S'):\n",
    "    opcao = input(\"Digite o que deseja fazer: \\n1- mudar valores de base e altura \\n2-Verificar os valores da base e altura\\n3-Mostrar a quantidade de pisos e rodapés necessários\\n4-Para sair\\n\")\n",
    "    if(opcao == '1'):\n",
    "        rtg.mudarVlrL()\n",
    "    elif(opcao =='2'):\n",
    "        rtg.RetVlrL()\n",
    "    elif(opcao =='3'):\n",
    "        rtg.CalcA()\n",
    "        rtg.CalcPer()\n",
    "    elif(opcao =='4'):\n",
    "        resp = \"\"\n",
    "    else:\n",
    "        print(\"Digite um indice do menu\")\n",
    "\n"
   ]
  },
  {
   "cell_type": "markdown",
   "metadata": {},
   "source": [
    "### Classe Pessoa:\n",
    "Atributos: nome, idade, peso e altura."
   ]
  },
  {
   "cell_type": "code",
   "execution_count": 51,
   "metadata": {},
   "outputs": [
    {
     "name": "stdout",
     "output_type": "stream",
     "text": [
      "Digite o nome da pessoa: Mateus\n",
      "Digite a idade da pessoa: 18\n",
      "Digite o peso da pessoa: 130\n",
      "Digite a altura da pessoa: 1.85\n",
      "\n",
      "Digite o que deseja fazer: \n",
      "1-Cadastra pessoa \n",
      "2-Envelhecer a pessoa\n",
      "3-Engordar a pessoa\n",
      "4-Emagrecer a pessoa\n",
      "5-Crescer a pessoa\n",
      "6-Sair\n",
      "2\n",
      "Quanto a pessoa envelheceu em anos? 2\n",
      "A pessoa envelheceu até 20 e por conta do processo de crescimento ficou com 1.95 de tamanho\n",
      "A idade da pessoa agora é: 20\n",
      "\n",
      "Digite o que deseja fazer: \n",
      "1-Cadastra pessoa \n",
      "2-Envelhecer a pessoa\n",
      "3-Engordar a pessoa\n",
      "4-Emagrecer a pessoa\n",
      "5-Crescer a pessoa\n",
      "6-Sair\n",
      "6\n"
     ]
    }
   ],
   "source": [
    "nome = str(input(\"Digite o nome da pessoa: \"))\n",
    "idade = int(input(\"Digite a idade da pessoa: \"))\n",
    "peso = float(input(\"Digite o peso da pessoa: \"))\n",
    "altura = float(input(\"Digite a altura da pessoa: \"))\n",
    "class pessoas:\n",
    "    def __init__(self):\n",
    "        self.nome = nome\n",
    "        self.idade = idade\n",
    "        self.peso = peso\n",
    "        self.altura = altura            \n",
    "\n",
    "    def PesEnv(self,env):\n",
    "        if (env < 0):\n",
    "            print(\"Digite um número possitivo que a pessoa envelheceu: \")\n",
    "        else:    \n",
    "            if (self.idade < 22):\n",
    "                self.idade = self.idade + env\n",
    "                self.altura = self.altura + (env * 0.05)\n",
    "                print(\"A pessoa envelheceu até\", self.idade, \"e por conta do processo de crescimento ficou com\", round(self.altura,2), \"de tamanho\")\n",
    "            else:\n",
    "                x = self.idade + env\n",
    "                self.idade = x\n",
    "        print(\"A idade da pessoa agora é:\", self.idade)\n",
    "    def PesEng(self,eng):\n",
    "        self.peso = self.peso + eng\n",
    "        print(\"O peso atual da pessoa é:\", self.peso)\n",
    "    def PesEma(self,ema):\n",
    "        self.peso = self.peso - ema\n",
    "        print(\"O peso atual da pessoa é:\", self.peso)\n",
    "    def PesCre(self,cre):\n",
    "        x = self.altura + cre\n",
    "\n",
    "pss = pessoas()\n",
    "resp = 'S'\n",
    "while(resp == 'S'):\n",
    "    opcao = input(\"\\nDigite o que deseja fazer: \\n1-Cadastra pessoa \\n2-Envelhecer a pessoa\\n3-Engordar a pessoa\\n4-Emagrecer a pessoa\\n5-Crescer a pessoa\\n6-Sair\\n\")\n",
    "    if(opcao == '1'):\n",
    "        nome = str(input(\"Digite o nome da pessoa: \"))\n",
    "        idade = int(input(\"Digite a idade da pessoa: \"))\n",
    "        peso = float(input(\"Digite o peso da pessoa: \"))\n",
    "        altura = float(input(\"Digite a altura da pessoa: \"))\n",
    "    elif(opcao =='2'):\n",
    "        env = int(input(\"Quanto a pessoa envelheceu em anos? \"))     \n",
    "        pss.PesEnv(env)\n",
    "    elif(opcao =='3'):\n",
    "        eng = float(input(\"Quanto a pessoa engordou? \"))\n",
    "        pss.PesEng(eng)\n",
    "    elif(opcao == \"4\"):\n",
    "        ema = float(input(\"Quanto a pessoa emagreceu:\"))\n",
    "        pss.PesEma(ema)\n",
    "    elif(opcao == \"5\"):\n",
    "        cre = float(input(\"Digite a altura que a pessoa cresceu: \"))\n",
    "    elif(opcao =='6'):\n",
    "        resp = \"\"\n",
    "    else:\n",
    "        print(\"Digite um indice do menu\")\n",
    "\n"
   ]
  },
  {
   "cell_type": "markdown",
   "metadata": {},
   "source": [
    "### Classe Carro:\n",
    "3 propriedades para a classe carro \n",
    "3 metodos para ela, sendo um destes o método para imprimir todos os dados."
   ]
  },
  {
   "cell_type": "code",
   "execution_count": 77,
   "metadata": {
    "scrolled": true
   },
   "outputs": [
    {
     "name": "stdout",
     "output_type": "stream",
     "text": [
      "Informações do carro A\n",
      "A cor do carro é azul\n",
      "A velocidade máxima do carro é 130\n",
      "A cor do carro é azul a velocidade máxima do carro é 130 e o modelo é Gol\n",
      "\n",
      "Informações do carro B\n",
      "A cor do carro é vermelho\n",
      "A velocidade máxima do carro é 180\n",
      "A cor do carro é vermelho a velocidade máxima do carro é 180 e o modelo é Uno\n",
      "\n",
      "Informações do carro C\n",
      "A cor do carro é preto\n",
      "A velocidade máxima do carro é 100\n",
      "A cor do carro é preto a velocidade máxima do carro é 100 e o modelo é Palio\n"
     ]
    }
   ],
   "source": [
    "class carro:\n",
    "    def __init__(self,cor,vMax,modelo):\n",
    "        self.cor = cor\n",
    "        self.vMax = vMax\n",
    "        self.modelo = modelo\n",
    "    \n",
    "    def Cor(self):\n",
    "        print(\"A cor do carro é\", self.cor)\n",
    "    def VMax(self):\n",
    "        print(\"A velocidade máxima do carro é\", self.vMax)\n",
    "    def imprimirDados(self):\n",
    "        print(\"A cor do carro é\", self.cor, \"a velocidade máxima do carro é\", self.vMax,\"e o modelo é\", self.modelo)\n",
    "\n",
    "class carroA(carro):\n",
    "    pass\n",
    "class carroB(carro):\n",
    "    pass\n",
    "class carroC(carro):\n",
    "    pass\n",
    "\n",
    "cA = carroA('azul', \"130\", \"Gol\")\n",
    "cB = carroB(\"vermelho\", \"180\", \"Uno\")\n",
    "cC = carroC(\"preto\", \"100\", \"Palio\")\n",
    "\n",
    "print(\"Informações do carro A\")\n",
    "cA.Cor()\n",
    "cA.VMax()\n",
    "cA.imprimirDados()\n",
    "print(\"\\nInformações do carro B\")\n",
    "cB.Cor()\n",
    "cB.VMax()\n",
    "cB.imprimirDados()\n",
    "print(\"\\nInformações do carro C\")\n",
    "cC.Cor()\n",
    "cC.VMax()\n",
    "cC.imprimirDados()"
   ]
  },
  {
   "cell_type": "markdown",
   "metadata": {},
   "source": [
    "### Classe conta corrente\n",
    "Atributo: Número da conta, nome do correntista e saldo.\n",
    "Método: alterarNome, deposito e saque.\n",
    "Saldo é opcional e o outros obrigatorios"
   ]
  },
  {
   "cell_type": "code",
   "execution_count": 25,
   "metadata": {},
   "outputs": [
    {
     "name": "stdout",
     "output_type": "stream",
     "text": [
      "Se deseja inserir saldo digite 'S', caso não tenha queira inserir um saldo pressione qualquer botão.S\n",
      "Digite um valor para o saldo:100\n",
      "Digite o nome do dono da conta: Mateus\n",
      "\n",
      "Digite o número da conta: 123\n"
     ]
    },
    {
     "ename": "TypeError",
     "evalue": "'str' object is not callable",
     "output_type": "error",
     "traceback": [
      "\u001b[1;31m---------------------------------------------------------------------------\u001b[0m",
      "\u001b[1;31mTypeError\u001b[0m                                 Traceback (most recent call last)",
      "\u001b[1;32m<ipython-input-25-f9458e276dbb>\u001b[0m in \u001b[0;36m<module>\u001b[1;34m\u001b[0m\n\u001b[0;32m     26\u001b[0m \u001b[0mresp\u001b[0m \u001b[1;33m=\u001b[0m \u001b[1;34m\"S\"\u001b[0m\u001b[1;33m\u001b[0m\u001b[1;33m\u001b[0m\u001b[0m\n\u001b[0;32m     27\u001b[0m \u001b[1;32mwhile\u001b[0m\u001b[1;33m(\u001b[0m\u001b[0mresp\u001b[0m \u001b[1;33m==\u001b[0m \u001b[1;34m'S'\u001b[0m\u001b[1;33m)\u001b[0m\u001b[1;33m:\u001b[0m\u001b[1;33m\u001b[0m\u001b[1;33m\u001b[0m\u001b[0m\n\u001b[1;32m---> 28\u001b[1;33m     \u001b[0mopcao\u001b[0m \u001b[1;33m=\u001b[0m \u001b[0minput\u001b[0m\u001b[1;33m(\u001b[0m\u001b[1;34m\"\\nDigite o número do que deseja fazer\"\u001b[0m\u001b[1;33m,\u001b[0m \u001b[0mcc\u001b[0m\u001b[1;33m.\u001b[0m\u001b[0mnomeconta\u001b[0m\u001b[1;33m(\u001b[0m\u001b[1;33m)\u001b[0m\u001b[1;33m,\u001b[0m \u001b[1;34m\"\\n1- Alterar o nome do correntista\\n2-Deposito\\n3-Saque\\n4-Sair\"\u001b[0m\u001b[1;33m)\u001b[0m\u001b[1;33m\u001b[0m\u001b[1;33m\u001b[0m\u001b[0m\n\u001b[0m\u001b[0;32m     29\u001b[0m     \u001b[1;32mif\u001b[0m\u001b[1;33m(\u001b[0m\u001b[0mopcao\u001b[0m \u001b[1;33m==\u001b[0m \u001b[1;34m'1'\u001b[0m\u001b[1;33m)\u001b[0m\u001b[1;33m:\u001b[0m\u001b[1;33m\u001b[0m\u001b[1;33m\u001b[0m\u001b[0m\n\u001b[0;32m     30\u001b[0m         \u001b[0mcc\u001b[0m\u001b[1;33m.\u001b[0m\u001b[0malterarNome\u001b[0m\u001b[1;33m(\u001b[0m\u001b[1;33m)\u001b[0m\u001b[1;33m\u001b[0m\u001b[1;33m\u001b[0m\u001b[0m\n",
      "\u001b[1;31mTypeError\u001b[0m: 'str' object is not callable"
     ]
    }
   ],
   "source": [
    "opcao = input(\"Se deseja inserir saldo digite 'S', caso não tenha queira inserir um saldo pressione qualquer botão.\").upper()\n",
    "if(opcao == 'S'):\n",
    "    saldo = float(input(\"Digite um valor para o saldo:\"))\n",
    "else:\n",
    "    saldo = 0\n",
    "nomeconta = input(\"Digite o nome do dono da conta: \")\n",
    "numconta = int(input(\"\\nDigite o número da conta: \"))\n",
    "class contacorrete:\n",
    "    def __init__(self):\n",
    "        self.saldo = saldo\n",
    "        self.nomeconta = nomeconta\n",
    "        self.numconta = numconta\n",
    "    def alterarNome(self):\n",
    "        self.nomeconta = input(\"Digite o novo nome do correntista\")\n",
    "    def deposito(self, dep):\n",
    "        self.saldo = self.saldo + dep\n",
    "        print(\"Seu novo saldo é:\", self.saldo)\n",
    "    def saque(self, saq):\n",
    "        if (saq > self.saldo):\n",
    "            print(\"O valor do saque é maior que o do seu saldo, seu saldo é de\", self.saldo)\n",
    "        else:    \n",
    "            self.saldo = self.saldo - saq\n",
    "            print(\"O saldo da conta ficou:\", self.saldo)\n",
    "        \n",
    "cc = contacorrete()\n",
    "resp = \"S\"\n",
    "while(resp == 'S'):\n",
    "    opcao = input(\"\\nDigite o número do que deseja fazer\\n1- Alterar o nome do correntista\\n2-Deposito\\n3-Saque\\n4-Sair\")\n",
    "    if(opcao == '1'):\n",
    "        cc.alterarNome()\n",
    "    elif(opcao == '2'):\n",
    "        dep = float(input(\"Digite o valor do deposito:\"))\n",
    "        cc.deposito(dep)\n",
    "    elif(opcao == '3'):\n",
    "        saq = float(input(\"Digite o valor do saque:\"))\n",
    "        cc.saque(saq)\n",
    "    elif(opcao == '4'):\n",
    "        resp = \"\"\n",
    "    else:\n",
    "        print(\"Digite um valor do indice\")"
   ]
  },
  {
   "cell_type": "markdown",
   "metadata": {},
   "source": [
    "### Classe TV\n",
    "Atributos: Número e volume\n",
    "Metodo: trocar número e aumentar ou diminuir volume com limites."
   ]
  },
  {
   "cell_type": "code",
   "execution_count": null,
   "metadata": {
    "scrolled": true
   },
   "outputs": [
    {
     "name": "stdout",
     "output_type": "stream",
     "text": [
      "Digite o número do canal de 0 a 104\n",
      "Digite o volume de 0 a 5048\n",
      "***Informações da TV***\n",
      "Canal atual 4 \n",
      "Volume atual 48\n",
      "Digite o que deseja fazer\n",
      "1-Trocar o canal\n",
      "2-Aumentar o volume\n",
      "3-Diminuir o volume\n",
      "4-Desligar2\n",
      "O volume atual é 49\n",
      "***Informações da TV***\n",
      "Canal atual 4 \n",
      "Volume atual 49\n",
      "Digite o que deseja fazer\n",
      "1-Trocar o canal\n",
      "2-Aumentar o volume\n",
      "3-Diminuir o volume\n",
      "4-Desligar2\n",
      "O volume atual é 50\n",
      "***Informações da TV***\n",
      "Canal atual 4 \n",
      "Volume atual 50\n",
      "Digite o que deseja fazer\n",
      "1-Trocar o canal\n",
      "2-Aumentar o volume\n",
      "3-Diminuir o volume\n",
      "4-Desligar2\n",
      "O volume está no máximo 50\n",
      "***Informações da TV***\n",
      "Canal atual 4 \n",
      "Volume atual 50\n"
     ]
    }
   ],
   "source": [
    "class televisao:\n",
    "    def __init__(self):\n",
    "        self.canal = canal\n",
    "        self.volume = volume\n",
    "    \n",
    "    def trccnl(self, ncnl):\n",
    "        if(0 <= ncnl <= 10):\n",
    "            self.canal = ncnl\n",
    "            print(\"A televisão foi para o canal de número\", self.canal)\n",
    "        else:\n",
    "            print(\"Canal não disponivel, apenas do canal 0 ao 10\")\n",
    "    \n",
    "    def aumvol(self):\n",
    "        if(self.volume < 50 ):\n",
    "            self.volume = self.volume + 1\n",
    "            print(\"O volume atual é\", self.volume)         \n",
    "        else:\n",
    "            print(\"O volume está no máximo\", self.volume)               \n",
    "    def dimvol(self):\n",
    "        if(self.volume == 0):\n",
    "            print(\"O volume está no mínimo\", self.volume)\n",
    "        else:\n",
    "            self.volume = self.volume - 1\n",
    "            print(\"O volume atual é\", self.volume)\n",
    "canalok = \"N\"\n",
    "while(canalok ==\"N\"):\n",
    "    canal = int(input(\"Digite o número do canal de 0 a 10\"))\n",
    "    if(0 <= canal <= 10):\n",
    "        canalok = \"\"\n",
    "    else:\n",
    "        print(\"Canal não disponivel, apenas do canal 0 ao 10\")\n",
    "volok = \"N\"\n",
    "while(volok ==\"N\"):\n",
    "    volume = int(input(\"Digite o volume de 0 a 50\"))\n",
    "    if(0 <= volume <= 50):\n",
    "        volok = \"\"\n",
    "    else:\n",
    "        print(\"Volume fora dos parametros, digite um valor de 0 a 50\")\n",
    "tv = televisao()\n",
    "resp = \"S\"\n",
    "while(resp =='S'):\n",
    "    print(\"***Informações da TV***\\nCanal atual\", tv.canal, \"\\nVolume atual\",tv.volume)\n",
    "    opcao = input(\"Digite o que deseja fazer\\n1-Trocar o canal\\n2-Aumentar o volume\\n3-Diminuir o volume\\n4-Desligar\")\n",
    "    if(opcao == '1'):\n",
    "        ncnl = input(\"Digite o número do novo canal\")\n",
    "        tv.trccnl(ncnl)\n",
    "    elif(opcao=='2'):\n",
    "        tv.aumvol()\n",
    "    elif(opcao=='3'):\n",
    "        tv.dimvol()\n",
    "    elif(opcao=='4'):\n",
    "        resp = \"\"\n",
    "            \n"
   ]
  },
  {
   "cell_type": "markdown",
   "metadata": {},
   "source": [
    "### Bomba de Combustível\n",
    "atributo: tipoCombustivel, valorLitro, quantidadeCombustivel\n",
    "método: abastecerPorValor, abastecerPorLitro, alterarValor, alterarCombustivel, alterarQuantidadeCombustivel"
   ]
  },
  {
   "cell_type": "code",
   "execution_count": 29,
   "metadata": {
    "scrolled": true
   },
   "outputs": [
    {
     "name": "stdout",
     "output_type": "stream",
     "text": [
      "Informações da bomba\n",
      "Tipo de combustível:  Combustivel Comum \n",
      "Valor por litro: 4.36 \n",
      "Quantidade de combustível na bomba:  15000.0 \n",
      "\n",
      "\n",
      "Digite o número do que deseja fazer\n",
      "1-Abastecer por valor\n",
      "2-Abastecer por litro\n",
      "3-Alterar valor da gasolina\n",
      "4-Alterar tipo de combustível\n",
      "5-Alterar quantidade de gasolina na bomba\n",
      "6- Sair\n",
      "2\n",
      "Digite o valor a ser abastecido: 100\n",
      "O valor abastecido é 436.0 e ficou um total de 14564.0 na bomba\n",
      "Informações da bomba\n",
      "Tipo de combustível:  Combustivel Comum \n",
      "Valor por litro: 4.36 \n",
      "Quantidade de combustível na bomba:  14564.0 \n",
      "\n",
      "\n",
      "Digite o número do que deseja fazer\n",
      "1-Abastecer por valor\n",
      "2-Abastecer por litro\n",
      "3-Alterar valor da gasolina\n",
      "4-Alterar tipo de combustível\n",
      "5-Alterar quantidade de gasolina na bomba\n",
      "6- Sair\n",
      "6\n"
     ]
    }
   ],
   "source": [
    "vlr = 0\n",
    "class bombaComb():\n",
    "    def __init__(self):\n",
    "        self.tpComb = \"Combustivel Comum\"\n",
    "        self.vlrLtr = 4.36\n",
    "        self.qntComb = 15000.00\n",
    "    \n",
    "    def absPVlr(self,vlr):\n",
    "        abastecido = vlr / self.vlrLtr\n",
    "        self.qntComb = float(self.qntComb-abastecido) \n",
    "        print(\"O valor abastecido é\", round(abastecido,2), \"e ficou um total de\", self.qntComb,\"na bomba\")\n",
    "    \n",
    "    def absPLtr(self,vlr):\n",
    "        abastecido = vlr * self.vlrLtr\n",
    "        self.qntComb = float(self.qntComb-abastecido)\n",
    "        print(\"O valor abastecido é\", round(abastecido,2), \"e ficou um total de\", self.qntComb,\"na bomba\")\n",
    "    \n",
    "    def altVlr(self):\n",
    "        self.vlrLtr = float(input(\"Digite o novo valor da gasolina: \"))\n",
    "        \n",
    "    def tpGas(self):\n",
    "        self.tpComb = input(\"Digite o tipo de combustivel do tanque: \")\n",
    "        \n",
    "    def altQntComb(self):\n",
    "        self.qntComb = float(input(\"Digite a quantidade de combustível restante da bomba: \"))\n",
    "     \n",
    "bomba = bombaComb()\n",
    "resp = 'S'\n",
    "while(resp == \"S\"):\n",
    "    print(\"Informações da bomba\\nTipo de combustível: \", bomba.tpComb,\"\\nValor por litro:\", bomba.vlrLtr,\"\\nQuantidade de combustível na bomba: \", bomba.qntComb,\"\\n\\n\")\n",
    "    opcao = input(\"Digite o número do que deseja fazer\\n1-Abastecer por valor\\n2-Abastecer por litro\\n3-Alterar valor da gasolina\\n4-Alterar tipo de combustível\\n5-Alterar quantidade de gasolina na bomba\\n6- Sair\\n\")\n",
    "    if(opcao == '1'):\n",
    "        vlr = float(input(\"Digite o valor a ser abastecido em litros: \"))\n",
    "        bomba.absPVlr(vlr)\n",
    "    if(opcao == '2'):\n",
    "        vlr = float(input(\"Digite o valor a ser abastecido: \"))\n",
    "        bomba.absPLtr(vlr)\n",
    "    if(opcao == '3'):\n",
    "        bomba.altVlr()   \n",
    "    if(opcao == '4'):\n",
    "        bomba.tpGas()\n",
    "    if(opcao == '5'):\n",
    "        bomba.altQntComb()\n",
    "    if(opcao == '6'):\n",
    "        resp = \"\""
   ]
  },
  {
   "cell_type": "code",
   "execution_count": null,
   "metadata": {},
   "outputs": [],
   "source": []
  }
 ],
 "metadata": {
  "kernelspec": {
   "display_name": "Python 3",
   "language": "python",
   "name": "python3"
  },
  "language_info": {
   "codemirror_mode": {
    "name": "ipython",
    "version": 3
   },
   "file_extension": ".py",
   "mimetype": "text/x-python",
   "name": "python",
   "nbconvert_exporter": "python",
   "pygments_lexer": "ipython3",
   "version": "3.8.3"
  }
 },
 "nbformat": 4,
 "nbformat_minor": 4
}
