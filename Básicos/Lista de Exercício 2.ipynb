{
 "cells": [
  {
   "cell_type": "markdown",
   "metadata": {},
   "source": [
    "### 1. Crie um programa que leia nome, sexo e idade de várias pessoas, guardando os dados de cada pessoas em um dicionário e todos os dicionários em uma lista. No final, mostre:\n",
    "\n",
    "a)Quantas pessoas foram cadastradas\n",
    "b)A média de idade\n",
    "c)Uma lista com as mulheres\n",
    "d)Uma lista de pessoas com idade acima da média"
   ]
  },
  {
   "cell_type": "code",
   "execution_count": 175,
   "metadata": {},
   "outputs": [
    {
     "name": "stdout",
     "output_type": "stream",
     "text": [
      "Nome: Mateus\n",
      "Sexo: [M/F]M\n",
      "Idade: 18\n",
      "Deseja continuar [S/N]: S\n",
      "[{'nome': 'Mateus', 'sexo': 'M', 'idade': 18}]\n",
      "<><><><><><><><><><><><><><><><><><><><><><><><><><><><><><>\n",
      "Nome: Bia\n",
      "Sexo: [M/F]F\n",
      "Idade: 22\n",
      "Deseja continuar [S/N]: S\n",
      "[{'nome': 'Mateus', 'sexo': 'M', 'idade': 18}, {'nome': 'Bia', 'sexo': 'F', 'idade': 22}]\n",
      "<><><><><><><><><><><><><><><><><><><><><><><><><><><><><><>\n",
      "Nome: Vit\n",
      "Sexo: [M/F]F\n",
      "Idade: 16\n",
      "Deseja continuar [S/N]: N\n",
      "[{'nome': 'Mateus', 'sexo': 'M', 'idade': 18}, {'nome': 'Bia', 'sexo': 'F', 'idade': 22}, {'nome': 'Vit', 'sexo': 'F', 'idade': 16}]\n",
      "O grupo tem 3 pessoas. \n",
      "-- A Média de idade é 19 anos.\n",
      "As mulheres cadastradas foram: \n",
      "Bia\n",
      "Vit\n",
      "Pessoas acima da média de idade\n",
      "nome = Bia; sexo = F; idade = 22:\n"
     ]
    }
   ],
   "source": [
    "pes = dict()\n",
    "pessoas = list()\n",
    "sair = ''\n",
    "\n",
    "while True:\n",
    "    pes['nome']=str(input('Nome: '))\n",
    "    while True:\n",
    "        pes['sexo'] = str(input('Sexo: [M/F]')).upper()[0]\n",
    "        if pes['sexo'] in 'MF':\n",
    "            break\n",
    "        print('Erro! Por favor, digite M ou F.')\n",
    "    \n",
    "    pes['idade'] = int(input('Idade: '))\n",
    "    while True:\n",
    "        sair=str(input('Deseja continuar [S/N]: ')).upper()[0]\n",
    "        if sair in 'SN':\n",
    "            break\n",
    "        print('Erro! Por favor, digite S ou N')\n",
    "    \n",
    "    pessoas.append(pes.copy())\n",
    "    print(pessoas)\n",
    "    if sair == 'N':\n",
    "        break\n",
    "    else:\n",
    "        print(\"<>\"*30)\n",
    "print(f\"O grupo tem {len(pessoas)} pessoas. \")\n",
    "\n",
    "mi = 0\n",
    "for c in range(0,len(pessoas)):\n",
    "    mi += (pessoas[c]['idade'])\n",
    "media = mi / len(pessoas)\n",
    "print(f'-- A Média de idade é {media :.0f} anos.')\n",
    "\n",
    "mul = list()\n",
    "for d in range(0, len(pessoas)):\n",
    "    if pessoas[d]['sexo'] == 'F':\n",
    "        mul.append(pessoas[d]['nome'])\n",
    "print('As mulheres cadastradas foram: ')\n",
    "print(mul)\n",
    "\n",
    "print(\"Pessoas acima da média de idade\")\n",
    "acm = list()\n",
    "for n in range(0, len(pessoas)):\n",
    "    if pessoas[n]['idade'] > media:\n",
    "        acm.append(pessoas[n])\n",
    "for a in range(0, len(acm)):\n",
    "    print(f\"nome = {acm[a]['nome']}; sexo = {acm[a]['sexo']}; idade = {acm[a]['idade']}:\")\n",
    "\n"
   ]
  },
  {
   "cell_type": "markdown",
   "metadata": {},
   "source": [
    "### 2. Escreva um programa Python para criar uma tupla com número de 1 a 4 e imprima um item."
   ]
  },
  {
   "cell_type": "code",
   "execution_count": 132,
   "metadata": {},
   "outputs": [
    {
     "name": "stdout",
     "output_type": "stream",
     "text": [
      "Digite um número de 0 a 3 para se obter uma fruta3\n",
      "Manga\n"
     ]
    }
   ],
   "source": [
    "tupla=('Banana', 'Maça', 'Maracujá', 'Manga')\n",
    "x=int(input(\"Digite um número de 0 a 3 para se obter uma fruta \"))\n",
    "print(tupla[x])\n"
   ]
  },
  {
   "cell_type": "markdown",
   "metadata": {},
   "source": [
    "### 3. Escreva um programa Python para desempacotar uma tupla em várias variáveis considere uma tupla = ('aluno','universidade', 'nota', 'resultado') e as variáveis w,x,y,z\n",
    "Consulte o tipo de dados de cada uma das variáveis e imprima os valores de cada uma delas"
   ]
  },
  {
   "cell_type": "code",
   "execution_count": 154,
   "metadata": {},
   "outputs": [
    {
     "name": "stdout",
     "output_type": "stream",
     "text": [
      "A letra 'W' recebe Aluno e seu tipo é string\n",
      "A letra 'X' recebe Universidade e seu tipo é string\n",
      "A letra 'Y' recebe Nota e seu tipo é float\n",
      "A letra 'z' recebe Resultado e seu tipo é string\n"
     ]
    }
   ],
   "source": [
    "tupla=('Aluno', 'Universidade', 'Nota', 'Resultado')\n",
    "w = tupla[0]\n",
    "x = tupla[1]\n",
    "y = tupla[2]\n",
    "z = tupla[3]\n",
    "print(\"A letra 'W' recebe \" + str(w) + \" e seu tipo é string\" )\n",
    "print(\"A letra 'X' recebe \" + str(x) + \" e seu tipo é string\" )\n",
    "print(\"A letra 'Y' recebe \" + str(y) + \" e seu tipo é float\" )\n",
    "print(\"A letra 'z' recebe \" + str(z) + \" e seu tipo é string\" )\n"
   ]
  },
  {
   "cell_type": "markdown",
   "metadata": {},
   "source": [
    "### 4. Crie 3 conjuntos conforme a estrutura a seguir:\n",
    "setx = set([\"apple\"], [\"mango\"])\n",
    "sety = set([\"mango\"], [\"orange\"])\n",
    "setz= set([\"mango\"])\n",
    "\n",
    "Faça as seguintes operações sobre os conjuntos:\n",
    "a) faça a união dos 3 conjuntos e imprima o resultado\n",
    "b) Verifique quais os elementos comuns do conjunto setx e sety e imprima o resultado\n",
    "c) Verifique se o conjunto setx é subconjunto do conjunto sety e setz utilizando issubset()\n",
    "d) Verifique quais elementos do conjunto setx não existem em sety"
   ]
  },
  {
   "cell_type": "code",
   "execution_count": 139,
   "metadata": {},
   "outputs": [
    {
     "name": "stdout",
     "output_type": "stream",
     "text": [
      "{'orange', 'mango', 'apple'}\n",
      "{'mango'}\n",
      "False\n",
      "{'apple'}\n"
     ]
    }
   ],
   "source": [
    "setx = set([\"apple\", \"mango\"])\n",
    "sety = set([\"mango\", \"orange\"])\n",
    "setz = set([\"mango\"])\n",
    "\n",
    "print(setx | sety | setz)\n",
    "print(setx & sety)\n",
    "print(setx.issubset(sety | setz))\n",
    "print(setx - sety)"
   ]
  },
  {
   "cell_type": "markdown",
   "metadata": {},
   "source": [
    "### Escreva um programa Python para inserir um elemento no início de um determinado Dicionário Ordenado\n",
    "DicionárioOrdenado original:\n",
    "DicionárioOrdenado([('color1','Red')('color2','Green')('color3,'Blue')])\n",
    "Insira um elemento no início do referido DicionárioOrdenado:\n",
    "DicionárioOrdenado atualizado:\n",
    "DicionárioOrdenado([('color4','Orange')('color1','Red')('color2','Green')('color3,'Blue')])\n"
   ]
  },
  {
   "cell_type": "code",
   "execution_count": 173,
   "metadata": {},
   "outputs": [
    {
     "name": "stdout",
     "output_type": "stream",
     "text": [
      "4\n",
      "[('color4', 'Orange'), ('color2', 'Green'), ('color3', 'Blue'), ('color1', 'Red')]\n",
      "[('color4', 'Orange'), ('color1', 'Red'), ('color3', 'Blue'), ('color2', 'Green')]\n",
      "[('color4', 'Orange'), ('color1', 'Red'), ('color2', 'Green'), ('color3', 'Blue')]\n"
     ]
    }
   ],
   "source": [
    "DicOrd = [('color1','Red'), ('color2', 'Green'), ('color3', 'Blue')]\n",
    "DicOrd.append(('color4','Orange'))\n",
    "print(len(DicOrd))\n",
    "y = 0\n",
    "z = 3\n",
    "for n in range(0,3):\n",
    "    a = DicOrd[y]\n",
    "    DicOrd[y] = DicOrd[z]\n",
    "    DicOrd[z] = a    \n",
    "    y = y + 1 \n",
    "    print(DicOrd)\n",
    "    "
   ]
  },
  {
   "cell_type": "markdown",
   "metadata": {},
   "source": [
    "### 6. Escreva uma função right_justify, que receba uma string chamada s como parâmetro e exiba a string com espaços suficientes para que a última letra esteja na coluna 70 da tela:\n"
   ]
  },
  {
   "cell_type": "code",
   "execution_count": 14,
   "metadata": {},
   "outputs": [
    {
     "name": "stdout",
     "output_type": "stream",
     "text": [
      "Digite a string que deve ser justificada a direita\n",
      "Mateus\n",
      "                                                                Mateus\n"
     ]
    }
   ],
   "source": [
    "def right_justify(s):\n",
    "    x = len(s)\n",
    "    print(\" \"*(70-x)+s)\n",
    "    \n",
    "s = input(\"Digite a string que deve ser justificada a direita\\n\")\n",
    "right_justify(s)\n"
   ]
  },
  {
   "cell_type": "markdown",
   "metadata": {},
   "source": [
    "### Um objeto de função é um valor que pode ser atribuído a uma variável ou passado como argumento. Por exemplo, do_twice é uma função que toma um objeto de função como argumento e o chama duas vezes\n",
    "\n",
    "a) Digite este exemplo em um script e teste-o\n",
    "b) Altere o do_twice para que receba dois argumentos, um objeto de função e um valor e chame a função duas vezes passando o valor como argumento"
   ]
  },
  {
   "cell_type": "code",
   "execution_count": 27,
   "metadata": {},
   "outputs": [
    {
     "name": "stdout",
     "output_type": "stream",
     "text": [
      "spam\n",
      "spam\n"
     ]
    },
    {
     "ename": "KeyboardInterrupt",
     "evalue": "Interrupted by user",
     "output_type": "error",
     "traceback": [
      "\u001b[1;31m---------------------------------------------------------------------------\u001b[0m",
      "\u001b[1;31mKeyboardInterrupt\u001b[0m                         Traceback (most recent call last)",
      "\u001b[1;32m<ipython-input-27-055a565d8a6a>\u001b[0m in \u001b[0;36m<module>\u001b[1;34m\u001b[0m\n\u001b[0;32m     11\u001b[0m     \u001b[0mfunct\u001b[0m\u001b[1;33m(\u001b[0m\u001b[0marg\u001b[0m\u001b[1;33m)\u001b[0m\u001b[1;33m\u001b[0m\u001b[1;33m\u001b[0m\u001b[0m\n\u001b[0;32m     12\u001b[0m \u001b[1;33m\u001b[0m\u001b[0m\n\u001b[1;32m---> 13\u001b[1;33m \u001b[0mfunct\u001b[0m \u001b[1;33m=\u001b[0m \u001b[0minput\u001b[0m\u001b[1;33m(\u001b[0m\u001b[1;34m\"Digite a função a ser aplicada\"\u001b[0m\u001b[1;33m)\u001b[0m\u001b[1;33m\u001b[0m\u001b[1;33m\u001b[0m\u001b[0m\n\u001b[0m\u001b[0;32m     14\u001b[0m \u001b[0marg\u001b[0m \u001b[1;33m=\u001b[0m \u001b[0minput\u001b[0m\u001b[1;33m(\u001b[0m\u001b[1;34m\"Digite o argumento a qual a função ira se aplicar\"\u001b[0m\u001b[1;33m)\u001b[0m\u001b[1;33m\u001b[0m\u001b[1;33m\u001b[0m\u001b[0m\n\u001b[0;32m     15\u001b[0m \u001b[0mfun_twice\u001b[0m\u001b[1;33m(\u001b[0m\u001b[0mfunct\u001b[0m\u001b[1;33m,\u001b[0m \u001b[0marg\u001b[0m\u001b[1;33m)\u001b[0m\u001b[1;33m\u001b[0m\u001b[1;33m\u001b[0m\u001b[0m\n",
      "\u001b[1;32mD:\\Anaconda\\lib\\site-packages\\ipykernel\\kernelbase.py\u001b[0m in \u001b[0;36mraw_input\u001b[1;34m(self, prompt)\u001b[0m\n\u001b[0;32m    858\u001b[0m                 \u001b[1;34m\"raw_input was called, but this frontend does not support input requests.\"\u001b[0m\u001b[1;33m\u001b[0m\u001b[1;33m\u001b[0m\u001b[0m\n\u001b[0;32m    859\u001b[0m             )\n\u001b[1;32m--> 860\u001b[1;33m         return self._input_request(str(prompt),\n\u001b[0m\u001b[0;32m    861\u001b[0m             \u001b[0mself\u001b[0m\u001b[1;33m.\u001b[0m\u001b[0m_parent_ident\u001b[0m\u001b[1;33m,\u001b[0m\u001b[1;33m\u001b[0m\u001b[1;33m\u001b[0m\u001b[0m\n\u001b[0;32m    862\u001b[0m             \u001b[0mself\u001b[0m\u001b[1;33m.\u001b[0m\u001b[0m_parent_header\u001b[0m\u001b[1;33m,\u001b[0m\u001b[1;33m\u001b[0m\u001b[1;33m\u001b[0m\u001b[0m\n",
      "\u001b[1;32mD:\\Anaconda\\lib\\site-packages\\ipykernel\\kernelbase.py\u001b[0m in \u001b[0;36m_input_request\u001b[1;34m(self, prompt, ident, parent, password)\u001b[0m\n\u001b[0;32m    902\u001b[0m             \u001b[1;32mexcept\u001b[0m \u001b[0mKeyboardInterrupt\u001b[0m\u001b[1;33m:\u001b[0m\u001b[1;33m\u001b[0m\u001b[1;33m\u001b[0m\u001b[0m\n\u001b[0;32m    903\u001b[0m                 \u001b[1;31m# re-raise KeyboardInterrupt, to truncate traceback\u001b[0m\u001b[1;33m\u001b[0m\u001b[1;33m\u001b[0m\u001b[1;33m\u001b[0m\u001b[0m\n\u001b[1;32m--> 904\u001b[1;33m                 \u001b[1;32mraise\u001b[0m \u001b[0mKeyboardInterrupt\u001b[0m\u001b[1;33m(\u001b[0m\u001b[1;34m\"Interrupted by user\"\u001b[0m\u001b[1;33m)\u001b[0m \u001b[1;32mfrom\u001b[0m \u001b[1;32mNone\u001b[0m\u001b[1;33m\u001b[0m\u001b[1;33m\u001b[0m\u001b[0m\n\u001b[0m\u001b[0;32m    905\u001b[0m             \u001b[1;32mexcept\u001b[0m \u001b[0mException\u001b[0m \u001b[1;32mas\u001b[0m \u001b[0me\u001b[0m\u001b[1;33m:\u001b[0m\u001b[1;33m\u001b[0m\u001b[1;33m\u001b[0m\u001b[0m\n\u001b[0;32m    906\u001b[0m                 \u001b[0mself\u001b[0m\u001b[1;33m.\u001b[0m\u001b[0mlog\u001b[0m\u001b[1;33m.\u001b[0m\u001b[0mwarning\u001b[0m\u001b[1;33m(\u001b[0m\u001b[1;34m\"Invalid Message:\"\u001b[0m\u001b[1;33m,\u001b[0m \u001b[0mexc_info\u001b[0m\u001b[1;33m=\u001b[0m\u001b[1;32mTrue\u001b[0m\u001b[1;33m)\u001b[0m\u001b[1;33m\u001b[0m\u001b[1;33m\u001b[0m\u001b[0m\n",
      "\u001b[1;31mKeyboardInterrupt\u001b[0m: Interrupted by user"
     ]
    }
   ],
   "source": [
    "def do_twice(f):\n",
    "    f()\n",
    "    f()\n",
    "\n",
    "def print_spam():\n",
    "    print('spam')\n",
    "do_twice(print_spam)\n",
    "    \n",
    "def fun_twice(funct, arg):\n",
    "    funct(arg)\n",
    "    funct(arg)\n",
    "    \n",
    "funct = input(\"Digite a função a ser aplicada\")\n",
    "arg = input(\"Digite o argumento a qual a função ira se aplicar\")\n",
    "fun_twice(funct, arg)\n",
    "    \n"
   ]
  },
  {
   "cell_type": "markdown",
   "metadata": {},
   "source": [
    "### Crie um programa que faça a impressão de uma mensagem e a multiplicação de dois números. Utilize módulos e funções para resolução do problema.\n"
   ]
  },
  {
   "cell_type": "code",
   "execution_count": 32,
   "metadata": {},
   "outputs": [
    {
     "name": "stdout",
     "output_type": "stream",
     "text": [
      "Digite a mensagem que aparecerá na telaOlá! Bom dia!\n",
      "Olá! Bom dia!\n",
      "Digite o primeiro número da multiplicação4\n",
      "Digite o segundo número da multiplicação8\n",
      "32\n"
     ]
    }
   ],
   "source": [
    "def print_msg(msg):\n",
    "    print(msg)\n",
    "    \n",
    "msg = input(\"Digite a mensagem que aparecerá na tela\")\n",
    "print_msg(msg)\n",
    "\n",
    "def mult(n1, n2):\n",
    "    x = n1 * n2\n",
    "    print(x)\n",
    "    \n",
    "n1 = int(input(\"Digite o primeiro número da multiplicação\"))\n",
    "n2 = int(input(\"Digite o segundo número da multiplicação\"))\n",
    "mult(n1,n2)"
   ]
  },
  {
   "cell_type": "markdown",
   "metadata": {},
   "source": [
    "### Dada uma lista encadeada de caracteres formada por uma sequência altera de letras e dígitos, construa um método que retorne uma lista na qual as letras são mantidas na sequência original e os dígitos são colocados  na ordem inversa. Exemplos:"
   ]
  },
  {
   "cell_type": "code",
   "execution_count": 65,
   "metadata": {},
   "outputs": [
    {
     "name": "stdout",
     "output_type": "stream",
     "text": [
      "['A', 'E', 'T', 'W', 'G', '8', '7', '5', '1']\n"
     ]
    }
   ],
   "source": [
    "ex = ['A','1','E','5','T', '7','W', '8','G']\n",
    "num = []\n",
    "lt = []\n",
    "\n",
    "for i in range (0, len(ex)):\n",
    "    if ex[i].isdigit():\n",
    "        num.append(ex[i])\n",
    "    else:\n",
    "        lt.append(ex[i])        \n",
    "num.sort(reverse=True)\n",
    "ex = []\n",
    "for n in range (0, len(lt)):\n",
    "    ex.append(lt[n])\n",
    "for n in range (0, len(num)):\n",
    "    ex.append(num[n])\n",
    "print(ex)"
   ]
  },
  {
   "cell_type": "code",
   "execution_count": null,
   "metadata": {},
   "outputs": [],
   "source": []
  }
 ],
 "metadata": {
  "kernelspec": {
   "display_name": "Python 3",
   "language": "python",
   "name": "python3"
  },
  "language_info": {
   "codemirror_mode": {
    "name": "ipython",
    "version": 3
   },
   "file_extension": ".py",
   "mimetype": "text/x-python",
   "name": "python",
   "nbconvert_exporter": "python",
   "pygments_lexer": "ipython3",
   "version": "3.8.3"
  }
 },
 "nbformat": 4,
 "nbformat_minor": 4
}
