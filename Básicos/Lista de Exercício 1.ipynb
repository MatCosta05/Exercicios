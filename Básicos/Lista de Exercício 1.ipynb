{
 "cells": [
  {
   "cell_type": "markdown",
   "metadata": {},
   "source": [
    "# Exercícios \n",
    "\n",
    "### Exercício 1: Print do seu nome completo"
   ]
  },
  {
   "cell_type": "code",
   "execution_count": 1,
   "metadata": {},
   "outputs": [
    {
     "name": "stdout",
     "output_type": "stream",
     "text": [
      "Mateus da Costa Machado\n"
     ]
    }
   ],
   "source": [
    "print(\"Mateus da Costa Machado\")"
   ]
  },
  {
   "cell_type": "markdown",
   "metadata": {},
   "source": [
    "### Exercício 2: Resultado de 5a x 3b onde a = 2 e b = 5"
   ]
  },
  {
   "cell_type": "code",
   "execution_count": 1,
   "metadata": {},
   "outputs": [
    {
     "name": "stdout",
     "output_type": "stream",
     "text": [
      "150\n"
     ]
    }
   ],
   "source": [
    "a = 2 \n",
    "b = 5\n",
    "print(5*a * 3*b)"
   ]
  },
  {
   "cell_type": "markdown",
   "metadata": {},
   "source": [
    "### Exercício 3: Adicione uma váriavel c=5 no programa acima e some as três variaveis"
   ]
  },
  {
   "cell_type": "code",
   "execution_count": null,
   "metadata": {},
   "outputs": [],
   "source": [
    "a = 2\n",
    "b = 5\n",
    "c = 5\n",
    "print(a+b+c)\n"
   ]
  },
  {
   "cell_type": "markdown",
   "metadata": {},
   "source": [
    "### Exercício 4: Escreva um programa que leia dois números e que pergunte qual operação você deseja realizar. Você deve poder calcular a soma (+), subtração(-), multiplicação(*) e divisão(/). Exiba o resultado da operação."
   ]
  },
  {
   "cell_type": "code",
   "execution_count": 11,
   "metadata": {},
   "outputs": [
    {
     "name": "stdout",
     "output_type": "stream",
     "text": [
      "Digite o valor do primeiro número:5\n",
      "Digite o valor do segundo número:5\n",
      "O valor dos números digitados são 5 e 5\n",
      "Digite o operador matemático que deve ser aplicado nesses 2 valores+\n",
      "10\n"
     ]
    }
   ],
   "source": [
    "x = int(input(\"Digite o valor do primeiro número:\"))\n",
    "y = int(input(\"Digite o valor do segundo número:\"))\n",
    "print(\"O valor dos números digitados são %d e %d\" %(x,y))\n",
    "\n",
    "oper = input(\"Digite o operador matemático que deve ser aplicado nesses 2 valores\")\n",
    "while oper ==\"+\" or oper ==\"-\" or oper ==\"*\" or oper ==\"/\":\n",
    "    if oper == \"+\":\n",
    "        print(x + y)\n",
    "        break\n",
    "    elif oper == \"-\":\n",
    "        print(x - y)\n",
    "        break\n",
    "    elif oper == \"*\":\n",
    "        print(x * y)\n",
    "        break\n",
    "    elif oper == \"/\":\n",
    "        print(x / y)\n",
    "        break"
   ]
  },
  {
   "cell_type": "markdown",
   "metadata": {},
   "source": [
    "%"
   ]
  },
  {
   "cell_type": "markdown",
   "metadata": {},
   "source": [
    "### Exercício 5: Escreva um programa pra contar até 10"
   ]
  },
  {
   "cell_type": "code",
   "execution_count": 26,
   "metadata": {},
   "outputs": [
    {
     "name": "stdout",
     "output_type": "stream",
     "text": [
      "Deseja em formato while ou for\n",
      "while\n",
      "0\n",
      "1\n",
      "2\n",
      "3\n",
      "4\n",
      "5\n",
      "6\n",
      "7\n",
      "8\n",
      "9\n",
      "10\n"
     ]
    }
   ],
   "source": [
    "x = 0\n",
    "resp = input(\"Deseja em formato while ou for\\n\").upper()\n",
    "if resp == \"WHILE\":\n",
    "    while x <= 10:\n",
    "        print (x)\n",
    "        x = x+1\n",
    "else:\n",
    "    for x in range(1,11):\n",
    "        print (x)\n",
    "        x = x + 1"
   ]
  },
  {
   "cell_type": "markdown",
   "metadata": {},
   "source": [
    "### Exercício 6: Escreva um programa para contar quantos números pares e ímpares existentes entre 1 e 10 bem como a soma deles. \n",
    "\n",
    "a) usando a instrução while \n",
    "b) usando a instrução for e as funções range e sum \n"
   ]
  },
  {
   "cell_type": "code",
   "execution_count": 44,
   "metadata": {},
   "outputs": [
    {
     "name": "stdout",
     "output_type": "stream",
     "text": [
      "1\n",
      "impar\n",
      "2\n",
      "par\n",
      "3\n",
      "impar\n",
      "4\n",
      "par\n",
      "5\n",
      "impar\n",
      "6\n",
      "par\n",
      "7\n",
      "impar\n",
      "8\n",
      "par\n",
      "9\n",
      "impar\n",
      "10\n",
      "par\n",
      "A soma 55 é um número impár\n"
     ]
    }
   ],
   "source": [
    "#a) While\n",
    "y = 0\n",
    "x = 1\n",
    "while x <= 10:\n",
    "    print(x)\n",
    "    if x%2 == 0:\n",
    "        print(\"par\")\n",
    "    else:\n",
    "        print(\"impar\")\n",
    "    y = y + x\n",
    "    x = x+1   \n",
    "if y % 2 ==0:\n",
    "    print(\"A soma %d é um número par\" %y)\n",
    "else:\n",
    "    print(\"A soma %d é um número impár\" %y)"
   ]
  },
  {
   "cell_type": "code",
   "execution_count": 16,
   "metadata": {},
   "outputs": [
    {
     "name": "stdout",
     "output_type": "stream",
     "text": [
      "1\n",
      "Número Impar\n",
      "2\n",
      "Número Par\n",
      "3\n",
      "Número Impar\n",
      "4\n",
      "Número Par\n",
      "5\n",
      "Número Impar\n",
      "6\n",
      "Número Par\n",
      "7\n",
      "Número Impar\n",
      "8\n",
      "Número Par\n",
      "9\n",
      "Número Impar\n",
      "10\n",
      "Número Par\n",
      "O número 55 é impar\n"
     ]
    }
   ],
   "source": [
    "#b) for e funções range e sum\n",
    "x = 1\n",
    "y = 0\n",
    "w = 0,1,2,3,4,5,6,7,8,9,10\n",
    "for x in range (1,11):\n",
    "    print(x)\n",
    "    if x%2 == 0:\n",
    "        print(\"Número Par\")\n",
    "    else:\n",
    "        print(\"Número Impar\")\n",
    "    y = y+x\n",
    "    x = x + 1\n",
    "z = sum(w)\n",
    "if z%2 == 0:\n",
    "    print(\"O número %d é par\" %z)\n",
    "else:\n",
    "    print(\"O número %d é impar\" %z)\n"
   ]
  },
  {
   "cell_type": "markdown",
   "metadata": {},
   "source": [
    "### Exercício 7: Escreva um programa para resolver equações do segundo grau representadas por ax2+bx+c usando a Fórmula de Bhaskara. \n",
    "\n",
    "a) sem usar o módulo math \n",
    "b) usando o módulo math \n",
    "c)Teste seu programa com os coeficientes: \n",
    "\n",
    "a=1,b=-5,c=6    resp = 3 e 2       \n",
    "a=1,b=0,c=-9    resp = 3 e -3\n",
    "a=5,b=-45,c=0   resp = 9 e 0\n",
    "a=1,b=-1,c=-12  resp = 4 e -3\n",
    "a=1,b=-6,c=10   resp = 3+1j e 3-1j\n"
   ]
  },
  {
   "cell_type": "code",
   "execution_count": 46,
   "metadata": {},
   "outputs": [
    {
     "name": "stdout",
     "output_type": "stream",
     "text": [
      "Digite o valor de ax²: 1\n",
      "Digite o valor de bx: -6\n",
      "Digite o valor de c: 10\n",
      "-4\n",
      "(3+1j)\n",
      "(3-1j)\n"
     ]
    }
   ],
   "source": [
    "#a) sem usar o módulo math\n",
    "\n",
    "a = int(input(\"Digite o valor de ax²: \"))\n",
    "b = int(input(\"Digite o valor de bx: \"))\n",
    "c = int(input(\"Digite o valor de c: \"))\n",
    "\n",
    "delta = b**2 - 4*a*c\n",
    "print(delta)\n",
    "\n",
    "\n",
    "r1 = (-b + delta**0.5) / (2*a) \n",
    "print (r1)\n",
    "r2 = (-b - delta**0.5) / (2*a) \n",
    "print (r2)\n"
   ]
  },
  {
   "cell_type": "code",
   "execution_count": null,
   "metadata": {},
   "outputs": [],
   "source": [
    "#b) usando o módulo math\n",
    "import math\n",
    "a = int(input(\"Digite o valor de ax²: \"))\n",
    "b = int(input(\"Digite o valor de bx: \"))\n",
    "c = int(input(\"Digite o valor de c: \"))\n",
    "\n",
    "delta = pow(b,2) - 4*a*c\n",
    "print(delta)\n",
    "\n",
    "r1 = (-b + math.sqrt(delta)) / (2*a)\n",
    "print(r1)\n",
    "r2 = (-b - math.sqrt(delta)) / (2*a)\n",
    "print(r2)"
   ]
  },
  {
   "cell_type": "markdown",
   "metadata": {},
   "source": [
    "### Exercício 8: Reescreva o programa acima criando uma função bhaskara que recebe como parâmetros os coeficientes a, b e c e retorna as raízes da equação. "
   ]
  },
  {
   "cell_type": "code",
   "execution_count": 50,
   "metadata": {},
   "outputs": [
    {
     "name": "stdout",
     "output_type": "stream",
     "text": [
      "Digite o valor de ax²: 1\n",
      "Digite o valor de bx: 12\n",
      "Digite o valor de c: -13\n",
      "196\n",
      "1.0\n",
      "-13.0\n"
     ]
    }
   ],
   "source": [
    "def delta(a,b,c):   \n",
    "    delta = pow(b,2) - 4*a*c\n",
    "    print(delta)\n",
    "    r1 = (-b + math.sqrt(delta)) / (2*a)\n",
    "    print(r1)\n",
    "    r2 = (-b - math.sqrt(delta)) / (2*a)\n",
    "    print(r2)\n",
    "    \n",
    "a = int(input(\"Digite o valor de ax²: \"))\n",
    "b = int(input(\"Digite o valor de bx: \"))\n",
    "c = int(input(\"Digite o valor de c: \"))\n",
    "delta(a,b,c)"
   ]
  },
  {
   "cell_type": "markdown",
   "metadata": {},
   "source": [
    "### Exercício 9: Considerando a string s = 'Mentorama' escreva um programa que: \n",
    "a) converta a string para maiúsculo, em seguida \n",
    "b) imprima-a de trás para frente \n",
    "c) imprima somente as vogais "
   ]
  },
  {
   "cell_type": "code",
   "execution_count": 93,
   "metadata": {},
   "outputs": [
    {
     "name": "stdout",
     "output_type": "stream",
     "text": [
      "MENTORAMA\n",
      "AMAROTNEM\n",
      "Foi encontrado a vogal E na posição 2\n",
      "Foi encontrado a vogal O na posição 5\n",
      "Foi encontrado a vogal A na posição 7\n",
      "Foi encontrado a vogal A na posição 9\n"
     ]
    }
   ],
   "source": [
    "#a)converta a string para maiúsculo\n",
    "\n",
    "s = 'Mentorama'\n",
    "print(s.upper())\n",
    "print(s.upper()[::-1])\n",
    "x=0\n",
    "for x in range(len(s)):\n",
    "    if s[x] == \"a\" or s[x] == \"e\" or s[x] == \"i\"  or s[x] == \"o\" or s[x] == \"u\":\n",
    "        print(\"Foi encontrado a vogal \" + s[x].upper() + \" na posição \" + str(x+1))\n",
    "    x = x+1\n",
    "    "
   ]
  },
  {
   "cell_type": "markdown",
   "metadata": {},
   "source": [
    "### Exercício 10: Escreva um programa que pergunte o valor inicial de uma dívida e o juros mensal. Pergunte também o valor mensal que será pago. Imprima o número de meses para que a dívida seja paga, o total pago e o total de juros a pago."
   ]
  },
  {
   "cell_type": "code",
   "execution_count": 120,
   "metadata": {},
   "outputs": [
    {
     "name": "stdout",
     "output_type": "stream",
     "text": [
      "Digite o valor inicial da dívida: 100\n",
      "Digite o juros mensal da dívida: 5\n",
      "Digite o valor mensal que será pago: 10\n",
      "0.05\n",
      "10.5\n",
      "O total de meses até que a divida seja paga é de 9.52\n",
      "O total pago é de R$200.0\n",
      "O total de juros pago é de R$%0.4761904761904762\n"
     ]
    }
   ],
   "source": [
    "vlrin = int(input(\"Digite o valor inicial da dívida: \"))\n",
    "jrsms = int(input(\"Digite o juros mensal da dívida: \"))\n",
    "vlrms = int(input(\"Digite o valor mensal que será pago: \"))\n",
    "\n",
    "jrsms = jrsms/100\n",
    "print(jrsms)\n",
    "vlrms = vlrms + (jrsms * vlrms)\n",
    "print(vlrms)\n",
    "ttlmspg = vlrin / vlrms\n",
    "print(\"O total de meses até que a divida seja paga é de %.2f\" %ttlmspg)\n",
    "ttlpg = vlrin + (ttlmspg * vlrms)\n",
    "print(\"O total pago é de R$\" + str(ttlpg))\n",
    "ttljrpg = ttlmspg * (jrsms)\n",
    "print(\"O total de juros pago é de R$%\" + str(ttljrpg))\n"
   ]
  },
  {
   "cell_type": "code",
   "execution_count": null,
   "metadata": {},
   "outputs": [],
   "source": []
  }
 ],
 "metadata": {
  "kernelspec": {
   "display_name": "Python 3",
   "language": "python",
   "name": "python3"
  },
  "language_info": {
   "codemirror_mode": {
    "name": "ipython",
    "version": 3
   },
   "file_extension": ".py",
   "mimetype": "text/x-python",
   "name": "python",
   "nbconvert_exporter": "python",
   "pygments_lexer": "ipython3",
   "version": "3.8.3"
  }
 },
 "nbformat": 4,
 "nbformat_minor": 4
}
