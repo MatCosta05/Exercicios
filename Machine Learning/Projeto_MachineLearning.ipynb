{
 "cells": [
  {
   "cell_type": "code",
   "execution_count": 64,
   "metadata": {},
   "outputs": [],
   "source": [
    "from sklearn.linear_model import LogisticRegression\n",
    "from sklearn.svm import SVC\n",
    "from sklearn.ensemble import RandomForestClassifier\n",
    "import numpy as np\n",
    "from sklearn.datasets import load_digits\n",
    "import matplotlib.pyplot as plt\n",
    "from sklearn import metrics\n",
    "\n",
    "digits = load_digits()"
   ]
  },
  {
   "cell_type": "code",
   "execution_count": 2,
   "metadata": {},
   "outputs": [
    {
     "name": "stdout",
     "output_type": "stream",
     "text": [
      "Forma de dados da imagem (1797, 64)\n",
      "Forma de dados do rótulo (1797,)\n",
      "[[ 0.  0.  5. ...  0.  0.  0.]\n",
      " [ 0.  0.  0. ... 10.  0.  0.]\n",
      " [ 0.  0.  0. ... 16.  9.  0.]\n",
      " ...\n",
      " [ 0.  0.  1. ...  6.  0.  0.]\n",
      " [ 0.  0.  2. ... 12.  0.  0.]\n",
      " [ 0.  0. 10. ... 12.  1.  0.]]\n"
     ]
    }
   ],
   "source": [
    "data = digits.images\n",
    "data.shape\n",
    "\n",
    "#Mostra que há 1797 imagens (8 por 8 imagens para uma dimensionalidade de 64)\n",
    "print(\"Forma de dados da imagem\" , digits.data.shape)\n",
    "#Mostra que há 1797 amostras (inteiros de 0 a 9)\n",
    "print(\"Forma de dados do rótulo\", digits.target.shape)\n",
    "#Resposta certa para cada digito\n",
    "print(digits.data)"
   ]
  },
  {
   "cell_type": "code",
   "execution_count": 11,
   "metadata": {},
   "outputs": [],
   "source": [
    "from sklearn.model_selection import train_test_split\n",
    "X_train, X_test, y_train, y_test = train_test_split(digits.data, digits.target, test_size=0.20)"
   ]
  },
  {
   "cell_type": "code",
   "execution_count": 53,
   "metadata": {},
   "outputs": [
    {
     "data": {
      "text/plain": [
       "0.9098497495826378"
      ]
     },
     "execution_count": 53,
     "metadata": {},
     "output_type": "execute_result"
    }
   ],
   "source": [
    "lr = LogisticRegression(solver='liblinear', multi_class='ovr')\n",
    "lr.fit(X_train, y_train)\n",
    "lr.score(X_test, y_test)"
   ]
  },
  {
   "cell_type": "code",
   "execution_count": 51,
   "metadata": {},
   "outputs": [
    {
     "data": {
      "text/plain": [
       "0.5125208681135225"
      ]
     },
     "execution_count": 51,
     "metadata": {},
     "output_type": "execute_result"
    }
   ],
   "source": [
    "svm = SVC(gamma='auto')\n",
    "svm.fit(X_train, y_train)\n",
    "svm.score(X_test,y_test)"
   ]
  },
  {
   "cell_type": "code",
   "execution_count": 52,
   "metadata": {},
   "outputs": [
    {
     "data": {
      "text/plain": [
       "0.8547579298831386"
      ]
     },
     "execution_count": 52,
     "metadata": {},
     "output_type": "execute_result"
    }
   ],
   "source": [
    "rf = RandomForestClassifier(n_estimators=5)\n",
    "rf.fit(X_train, y_train)\n",
    "rf.score(X_test, y_test)"
   ]
  },
  {
   "cell_type": "code",
   "execution_count": 16,
   "metadata": {},
   "outputs": [
    {
     "name": "stdout",
     "output_type": "stream",
     "text": [
      "[2 3 4 5 6 7 8] [0 1]\n",
      "[0 1 4 5 6 7 8] [2 3]\n",
      "[0 1 2 3 6 7 8] [4 5]\n",
      "[0 1 2 3 4 5 8] [6 7]\n",
      "[0 1 2 3 4 5 6 7] [8]\n"
     ]
    }
   ],
   "source": [
    "from sklearn.model_selection import KFold\n",
    "kf = KFold(n_splits=5)\n",
    "\n",
    "for train_index, test_index in kf.split([1,2,3,4,5,6,7,8,9]):\n",
    "    print(train_index, test_index)"
   ]
  },
  {
   "cell_type": "code",
   "execution_count": 18,
   "metadata": {},
   "outputs": [],
   "source": [
    "def get_score(model, X_train, X_test, y_train, y_test):\n",
    "    model.fit(X_train, y_train)\n",
    "    return model.score(X_test, y_test)\n",
    "\n",
    "from sklearn.model_selection import StratifiedKFold\n",
    "folds = StratifiedKFold(n_splits=3)\n",
    "\n",
    "scores_logistic = []\n",
    "scores_svm = []\n",
    "scores_rf = []\n",
    "\n",
    "for train_index, test_index in folds.split(digits.data,digits.target):\n",
    "    X_train, X_test, y_train, y_test = digits.data[train_index], digits.data[test_index], \\\n",
    "                                       digits.target[train_index], digits.target[test_index]\n",
    "    scores_logistic.append(get_score(LogisticRegression(solver='liblinear',multi_class='ovr'), X_train, X_test, y_train, y_test))  \n",
    "    scores_svm.append(get_score(SVC(gamma='auto'), X_train, X_test, y_train, y_test))\n",
    "    scores_rf.append(get_score(RandomForestClassifier(n_estimators=40), X_train, X_test, y_train, y_test))"
   ]
  },
  {
   "cell_type": "code",
   "execution_count": 19,
   "metadata": {},
   "outputs": [
    {
     "data": {
      "text/plain": [
       "array([0.93611111, 0.9       , 0.95264624, 0.95821727, 0.92479109])"
      ]
     },
     "execution_count": 19,
     "metadata": {},
     "output_type": "execute_result"
    }
   ],
   "source": [
    "from sklearn.model_selection import cross_val_score\n",
    "\n",
    "cross_val_score(LogisticRegression(solver='liblinear',multi_class='ovr'), digits.data, digits.target,cv=5)\n",
    "\n",
    "cross_val_score(SVC(gamma='auto'), digits.data, digits.target,cv=5)\n",
    "\n",
    "cross_val_score(RandomForestClassifier(n_estimators=40),digits.data, digits.target,cv=5)"
   ]
  },
  {
   "cell_type": "code",
   "execution_count": 57,
   "metadata": {},
   "outputs": [],
   "source": [
    "from sklearn.model_selection import GridSearchCV, RandomizedSearchCV"
   ]
  },
  {
   "cell_type": "code",
   "execution_count": 58,
   "metadata": {},
   "outputs": [],
   "source": [
    "param_grid = [{'kernel': ['rbf'], 'gamma': [1e-3, 1e-4],'C': [1, 10, 100, 1000]},{'kernel': ['linear'], 'C': [1, 10, 100, 1000]}]\n",
    "scores = ['precision', 'recall']"
   ]
  },
  {
   "cell_type": "code",
   "execution_count": 59,
   "metadata": {
    "scrolled": false
   },
   "outputs": [
    {
     "name": "stdout",
     "output_type": "stream",
     "text": [
      "Melhores parametros {'C': 10, 'gamma': 0.001, 'kernel': 'rbf'}\n",
      "Scores no desenvolvimento [0.97460445 0.95091977 0.97469484 0.96298922 0.97469484 0.96409576\n",
      " 0.97469484 0.96409576 0.94984555 0.94984555 0.94984555 0.94984555]\n",
      "[0.01263888 0.0219365  0.01077443 0.02093182 0.01077443 0.01562298\n",
      " 0.01077443 0.01562298 0.02062072 0.02062072 0.02062072 0.02062072]\n",
      "Melhores parametros {'C': 1, 'gamma': 0.001, 'kernel': 'rbf'}\n",
      "Scores no desenvolvimento [0.97222406 0.94703886 0.97222406 0.95980771 0.97222406 0.96209264\n",
      " 0.97222406 0.96209264 0.94754859 0.94754859 0.94754859 0.94754859]\n",
      "[0.01488968 0.02343974 0.01337742 0.02312948 0.01337742 0.01663588\n",
      " 0.01337742 0.01663588 0.02075347 0.02075347 0.02075347 0.02075347]\n"
     ]
    }
   ],
   "source": [
    "for score in scores:\n",
    "    grid = GridSearchCV(SVC(), param_grid, scoring='%s_macro' %score)\n",
    "    grid.fit(digits.data,digits.target)\n",
    "    print(\"Melhores parametros\", grid.best_params_)\n",
    "    print(\"Scores no desenvolvimento\", grid.cv_results_['mean_test_score'])\n",
    "    print(grid.cv_results_['std_test_score'])"
   ]
  },
  {
   "cell_type": "code",
   "execution_count": 60,
   "metadata": {},
   "outputs": [
    {
     "name": "stdout",
     "output_type": "stream",
     "text": [
      "Melhores parametros {'kernel': 'rbf', 'gamma': 0.001, 'C': 1000}\n",
      "Scores no desenvolvimento [0.97469484 0.94984555 0.97469484 0.94984555 0.96298922 0.95091977\n",
      " 0.97469484 0.94984555 0.96409576 0.97460445]\n",
      "[0.01077443 0.02062072 0.01077443 0.02062072 0.02093182 0.0219365\n",
      " 0.01077443 0.02062072 0.01562298 0.01263888]\n",
      "Melhores parametros {'kernel': 'rbf', 'gamma': 0.001, 'C': 100}\n",
      "Scores no desenvolvimento [0.94754859 0.95980771 0.97222406 0.96209264 0.94754859 0.94754859\n",
      " 0.94703886 0.96209264 0.94754859 0.97222406]\n",
      "[0.02075347 0.02312948 0.01337742 0.01663588 0.02075347 0.02075347\n",
      " 0.02343974 0.01663588 0.02075347 0.01337742]\n"
     ]
    }
   ],
   "source": [
    "for score in scores:\n",
    "    grid = RandomizedSearchCV(SVC(), param_grid, scoring='%s_macro' %score)\n",
    "    grid.fit(digits.data,digits.target)\n",
    "    print(\"Melhores parametros\", grid.best_params_)\n",
    "    print(\"Scores no desenvolvimento\", grid.cv_results_['mean_test_score'])\n",
    "    print(grid.cv_results_['std_test_score'])"
   ]
  },
  {
   "cell_type": "code",
   "execution_count": 69,
   "metadata": {},
   "outputs": [
    {
     "name": "stdout",
     "output_type": "stream",
     "text": [
      "Matrix de confusão:\n",
      "[[56  0  0  0  0  1  1  0  1  0]\n",
      " [ 0 50  0  2  0  0  0  0  4  5]\n",
      " [ 2  0 56  0  0  0  0  0  0  1]\n",
      " [ 0  1  0 50  0  3  0  2  5  0]\n",
      " [ 0  1  0  0 56  0  1  0  0  2]\n",
      " [ 0  1  1  0  0 58  1  0  0  0]\n",
      " [ 0  0  0  0  0  0 60  0  0  0]\n",
      " [ 0  1  0  0  0  0  0 56  3  0]\n",
      " [ 0  7  0  0  0  2  0  0 49  0]\n",
      " [ 1  2  0  1  0  1  0  1  0 54]]\n"
     ]
    },
    {
     "data": {
      "image/png": "[encoded data removed]",
      "text/plain": [
       "<Figure size 432x288 with 2 Axes>"
      ]
     },
     "metadata": {
      "needs_background": "light"
     },
     "output_type": "display_data"
    },
    {
     "name": "stdout",
     "output_type": "stream",
     "text": [
      "Matrix de confusão:\n",
      "[[29  0  0  0  0 30  0  0  0  0]\n",
      " [ 0 25  0  0  0 36  0  0  0  0]\n",
      " [ 0  0 23  0  0 36  0  0  0  0]\n",
      " [ 0  0  0 50  0 11  0  0  0  0]\n",
      " [ 0  0  0  0 31 29  0  0  0  0]\n",
      " [ 0  0  0  0  0 61  0  0  0  0]\n",
      " [ 0  0  0  0  0 34 26  0  0  0]\n",
      " [ 0  0  0  0  0 35  0 25  0  0]\n",
      " [ 0  0  0  0  0 53  0  0  5  0]\n",
      " [ 0  0  0  2  0 26  0  0  0 32]]\n"
     ]
    },
    {
     "data": {
      "image/png": "[encoded data removed]",
      "text/plain": [
       "<Figure size 432x288 with 2 Axes>"
      ]
     },
     "metadata": {
      "needs_background": "light"
     },
     "output_type": "display_data"
    },
    {
     "name": "stdout",
     "output_type": "stream",
     "text": [
      "Matrix de confusão:\n",
      "[[56  0  0  0  1  1  0  0  1  0]\n",
      " [ 2 41  1  0  2  1  0  0  5  9]\n",
      " [ 1  3 54  1  0  0  0  0  0  0]\n",
      " [ 0  0  4 48  0  2  0  0  7  0]\n",
      " [ 3  0  0  0 53  0  1  2  0  1]\n",
      " [ 0  0  0  0  0 57  0  0  1  3]\n",
      " [ 0  0  0  0  0  0 59  0  1  0]\n",
      " [ 0  0  0  0  1  1  0 58  0  0]\n",
      " [ 1  6  4  3  1  0  0  1 40  2]\n",
      " [ 0  0  0  1  3  9  0  1  0 46]]\n"
     ]
    },
    {
     "data": {
      "image/png": "[encoded data removed]",
      "text/plain": [
       "<Figure size 432x288 with 2 Axes>"
      ]
     },
     "metadata": {
      "needs_background": "light"
     },
     "output_type": "display_data"
    }
   ],
   "source": [
    "disp = metrics.plot_confusion_matrix(lr, X_test,y_test)\n",
    "disp.figure_.suptitle(\"Matrix de confusão\")\n",
    "print(f\"Matrix de confusão:\\n{disp.confusion_matrix}\")\n",
    "plt.show()\n",
    "\n",
    "disp = metrics.plot_confusion_matrix(svm, X_test,y_test)\n",
    "disp.figure_.suptitle(\"Matrix de confusão\")\n",
    "print(f\"Matrix de confusão:\\n{disp.confusion_matrix}\")\n",
    "plt.show()\n",
    "\n",
    "disp = metrics.plot_confusion_matrix(rf, X_test,y_test)\n",
    "disp.figure_.suptitle(\"Matrix de confusão\")\n",
    "print(f\"Matrix de confusão:\\n{disp.confusion_matrix}\")\n",
    "plt.show()"
   ]
  },
  {
   "cell_type": "markdown",
   "metadata": {},
   "source": [
    "# Após a etapa de treinamento, analise o modelo respondendo as questões a seguir.\n",
    "### a) Qual a acurácia do modelo?\n",
    "Testei com 3 classificadores diferentes o LogisticRegression, SVC e o RandomFlorestClassifier e sua precisão foi respectivamente 0,9; 0,51 e 0,85\n",
    "\n",
    "### b) O modelo teve uma boa performance?\n",
    "Construindo a matrix de confusão baseando-se nos classificadores LogisticRegression e o RandomFlorestClassifier acredito que o modelo teve uma performance boa, porém no svc não foi muito boa. \n",
    "\n",
    "### c) Quais foram os melhores parâmetros escolhidos?\n",
    "Os melhores parâmetros escolhidos foram definidos por 2 metodos sendo eles: Os definidos pelo GridSearch:\n",
    "\"{'kernel': 'rbf', 'gamma': 0.001, 'C': 1000}\" e \" {'C': 1, 'gamma': 0.001, 'kernel': 'rbf'}\" \n",
    "Os definidos pelo RandomizedSearch:\n",
    "\"{'kernel': 'rbf', 'gamma': 0.001, 'C': 1000}\" e \"{'kernel': 'rbf', 'gamma': 0.001, 'C': 100}\"\n",
    "\n",
    "### d) Quais foram as principais dificuldades encontradas para a criação do seu modelo de classificação?\n",
    "As maiores dificuldades que eu tive na hora de construir foi implementar o RandomSearch e o GridSearch no modelo para a retirada dos melhores parâmetros e a construção dos classificadores além do SVC que foi apresentado na aula pratica."
   ]
  },
  {
   "cell_type": "markdown",
   "metadata": {},
   "source": [
    "# Faça uma pesquisa para conhecer um pouco mais sobre o universo de Machine Learning e responda as questões a seguir:\n",
    "\n",
    "### a) Qual a diferença entre o parâmetro de modelo e um algoritmo de aprendizado em hiperparâmetro? \n",
    "Os hiperparâmetros do modelo(Recebem esse nome porque são as partes do aprendizado de máquina que devem ser definidos manualmente) são configurados manualmente e os parâmetros do modelo são estimados automaticamente a partir dos dados e ambos são utilizados pelo modelo para fazer as previsões.\n",
    "\n",
    "### b)Você pode citar quatro dos principais desafios do aprendizado de máquina?\n",
    "Parâmetros de sistema não incluem ética e a tendência dos desenvolvedores: Os parâmetros atribuidos manualmente ou automaticamente nem sempre tem sentido com a ética da região na qual está sendo implementada, por exemplo: um desenvolvedor pode alterar os tratamentos médicos corretos visando o lucro ao invés do bem estar do paciente e como os computadores não sabem nada sobre ética ele pode retirar orçamento para ensino publico, hospitais e afins já que não aumentam diretamente o PIB.\n",
    "\n",
    "Dados de referência invalidos: Um exemplo fácil é uma IA que ficou no Twitter e em menos de 24 horas estava fazendo tweets maldosos a respeito de etinia, religião e etc.\n",
    "\n",
    "Correlações falsas: Relações totalmente aleatórias que podem ser feitas pela IA que seriam facilmente barradas caso fosse um ser humano fazendo elas.\n",
    "\n",
    "### c) Se o modelo tem um ótimo desempenho nos dados de treinamento, mas generaliza mal para as novas instâncias, o que está acontecendo? Cite três soluções possiveis.\n",
    "O modelo está tendo um problema de Overfitting e algumas soluções são a simplificação do classificador, aumentar o número de padrões de treinamento do classificador e o cross validation\n",
    "\n",
    "### d) O que é um conjunto de teste e por que você deve usar-lo?\n",
    "O conjunto de teste serve para você dar certeza que seu modelo funciona já que ele ignora os dados de treinamento e o processo de escolha dos hiperparâmetros.\n",
    "\n",
    "### e) Qual é o propósito de um conjunto de validação?\n",
    "Ele é usado para comparar os diferentes modelos e hiperparâmetros.\n",
    "\n",
    "### f) O que pode dar errado se você ajustar hiperparâmetros usando um conjunto de teste?\n",
    "Porque você não vai conseguir testar o seu código em um ambiente no qual ele não tem parâmetros para confirmar sua qualidade."
   ]
  },
  {
   "cell_type": "code",
   "execution_count": null,
   "metadata": {},
   "outputs": [],
   "source": []
  }
 ],
 "metadata": {
  "kernelspec": {
   "display_name": "Python 3",
   "language": "python",
   "name": "python3"
  },
  "language_info": {
   "codemirror_mode": {
    "name": "ipython",
    "version": 3
   },
   "file_extension": ".py",
   "mimetype": "text/x-python",
   "name": "python",
   "nbconvert_exporter": "python",
   "pygments_lexer": "ipython3",
   "version": "3.8.3"
  }
 },
 "nbformat": 4,
 "nbformat_minor": 4
}
